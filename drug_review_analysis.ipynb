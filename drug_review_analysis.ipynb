{
  "cells": [
    {
      "cell_type": "markdown",
      "id": "d9b3a57a",
      "metadata": {
        "id": "d9b3a57a"
      },
      "source": [
        "**Part A: Set-up**  \n",
        "We are choosing Google colab for our project. findspark will be used to set up your local environment to work with Spark, while pyspark is used to write Python code that interacts with Spark."
      ]
    },
    {
      "cell_type": "markdown",
      "source": [
        "## Question 1 - Start Spark and get a Spark context"
      ],
      "metadata": {
        "id": "OLvBshYOe4hC"
      },
      "id": "OLvBshYOe4hC"
    },
    {
      "cell_type": "code",
      "source": [
        "# print working directory\n",
        "!pwd\n",
        "\n",
        "# List files and folders\n",
        "!ls\n",
        "\n",
        "# Check the open jdk version on colab\n",
        "!ls /usr/lib/jvm/\n",
        "\n",
        "# Run this cell if you are running PySpark on Colab\n",
        "#Installing java\n",
        "\n",
        "!apt-get install openjdk-8-jdk-headless -qq > /dev/null\n",
        "\n",
        "#Downloading latest spark version. \n",
        "!wget -q https://archive.apache.org/dist/spark/spark-3.3.2/spark-3.3.2-bin-hadoop2.tgz\n",
        "\n",
        "#Untar it\n",
        "!tar xf spark-3.3.2-bin-hadoop2.tgz\n",
        "\n",
        "#Install pyspark: Adds Pyspark to sys.path at runtime\n",
        "!pip install -q findspark\n",
        "\n",
        "# Install pyspark\n",
        "!pip install pyspark\n",
        "\n",
        "# set the locations where Spark and Java are installed to let know Colab where to find it\n",
        "import os\n",
        "os.environ[\"JAVA_HOME\"] = \"/usr/lib/jvm/java-8-openjdk-amd64\"\n",
        "os.environ[\"SPARK_HOME\"] = \"/content/spark-3.3.2-bin-hadoop2\"\n",
        "\n",
        "# Create a spark session: The entry point into all functionality in Spark is the SparkSession class. \n",
        "\n",
        "# findspark will locate spark in the system\n",
        "import findspark\n",
        "findspark.init()\n",
        "\n",
        "from pyspark.sql import SparkSession\n",
        "spark = SparkSession.builder.master(\"local[*]\").getOrCreate()"
      ],
      "metadata": {
        "colab": {
          "base_uri": "https://localhost:8080/"
        },
        "id": "_nVQR0KssAUS",
        "outputId": "33d23771-c39b-4c04-e444-9e3e02dee6f4"
      },
      "id": "_nVQR0KssAUS",
      "execution_count": null,
      "outputs": [
        {
          "output_type": "stream",
          "name": "stdout",
          "text": [
            "/content\n",
            "data.parquet\t       spark-3.3.2-bin-hadoop2\n",
            "drugsCom_raw.zip       spark-3.3.2-bin-hadoop2.tgz\n",
            "drugsCom_raw.zip.1     spark-3.3.2-bin-hadoop2.tgz.1\n",
            "drugsCom_raw.zip.2     spark-3.3.2-bin-hadoop2.tgz.2\n",
            "drugsComTest_raw.tsv   spark-3.3.2-bin-hadoop2.tgz.3\n",
            "drugsComTrain_raw.tsv  spark-3.3.2-bin-hadoop2.tgz.4\n",
            "sample_data\n",
            "java-1.11.0-openjdk-amd64  java-1.8.0-openjdk-amd64\n",
            "java-11-openjdk-amd64\t   java-8-openjdk-amd64\n",
            "Looking in indexes: https://pypi.org/simple, https://us-python.pkg.dev/colab-wheels/public/simple/\n",
            "Requirement already satisfied: pyspark in /usr/local/lib/python3.9/dist-packages (3.3.2)\n",
            "Requirement already satisfied: py4j==0.10.9.5 in /usr/local/lib/python3.9/dist-packages (from pyspark) (0.10.9.5)\n"
          ]
        }
      ]
    },
    {
      "cell_type": "markdown",
      "id": "461c9476",
      "metadata": {
        "id": "461c9476"
      },
      "source": [
        "## Load libraries"
      ]
    },
    {
      "cell_type": "code",
      "execution_count": null,
      "id": "056e45e6",
      "metadata": {
        "colab": {
          "base_uri": "https://localhost:8080/"
        },
        "id": "056e45e6",
        "outputId": "4f7c0e3d-cdb6-4b81-ad8a-1d994abc4c77"
      },
      "outputs": [
        {
          "output_type": "stream",
          "name": "stdout",
          "text": [
            "Looking in indexes: https://pypi.org/simple, https://us-python.pkg.dev/colab-wheels/public/simple/\n",
            "Requirement already satisfied: vaderSentiment in /usr/local/lib/python3.9/dist-packages (3.3.2)\n",
            "Requirement already satisfied: requests in /usr/local/lib/python3.9/dist-packages (from vaderSentiment) (2.27.1)\n",
            "Requirement already satisfied: charset-normalizer~=2.0.0 in /usr/local/lib/python3.9/dist-packages (from requests->vaderSentiment) (2.0.12)\n",
            "Requirement already satisfied: idna<4,>=2.5 in /usr/local/lib/python3.9/dist-packages (from requests->vaderSentiment) (3.4)\n",
            "Requirement already satisfied: certifi>=2017.4.17 in /usr/local/lib/python3.9/dist-packages (from requests->vaderSentiment) (2022.12.7)\n",
            "Requirement already satisfied: urllib3<1.27,>=1.21.1 in /usr/local/lib/python3.9/dist-packages (from requests->vaderSentiment) (1.26.15)\n"
          ]
        }
      ],
      "source": [
        "# Import necessary libraries\n",
        "\n",
        "from pyspark.sql import SparkSession\n",
        "from pyspark.sql.functions import regexp_replace, isnan, when, lit, desc, avg, sum\n",
        "from pyspark.sql.functions import unix_timestamp, from_unixtime, to_date, date_format\n",
        "\n",
        "import seaborn as sns\n",
        "import matplotlib.pyplot as plt\n",
        "import plotly.express as px\n",
        "import pandas as pd\n",
        "!pip install vaderSentiment\n",
        "from vaderSentiment.vaderSentiment import SentimentIntensityAnalyzer"
      ]
    },
    {
      "cell_type": "markdown",
      "id": "7ab1180f",
      "metadata": {
        "id": "7ab1180f"
      },
      "source": [
        "## Question 2 - Download remote CSV dataset"
      ]
    },
    {
      "cell_type": "markdown",
      "source": [
        "We will be using Drug Review Dataset (https://archive.ics.uci.edu/ml/datasets/Drug+Review+Dataset+%28Drugs.com%29) for our assignment."
      ],
      "metadata": {
        "id": "hBpuRTcjtVNT"
      },
      "id": "hBpuRTcjtVNT"
    },
    {
      "cell_type": "code",
      "execution_count": null,
      "id": "7423d3d1",
      "metadata": {
        "colab": {
          "base_uri": "https://localhost:8080/"
        },
        "id": "7423d3d1",
        "outputId": "0be754a8-46f2-4398-9085-e7c09a181bc4"
      },
      "outputs": [
        {
          "output_type": "stream",
          "name": "stdout",
          "text": [
            "File ‘drugsCom_raw.zip’ already there; not retrieving.\n",
            "\n",
            "Archive:  /content/drugsCom_raw.zip\n",
            "replace drugsComTest_raw.tsv? [y]es, [n]o, [A]ll, [N]one, [r]ename: y\n",
            "  inflating: drugsComTest_raw.tsv    \n",
            "replace drugsComTrain_raw.tsv? [y]es, [n]o, [A]ll, [N]one, [r]ename: y\n",
            "  inflating: drugsComTrain_raw.tsv   \n"
          ]
        }
      ],
      "source": [
        "!wget -nc https://archive.ics.uci.edu/ml/machine-learning-databases/00462/drugsCom_raw.zip\n",
        "!unzip  /content/drugsCom_raw.zip"
      ]
    },
    {
      "cell_type": "markdown",
      "id": "96ecd956",
      "metadata": {
        "id": "96ecd956"
      },
      "source": [
        "## Question 3 - Load the CSV file into a Spark DataFrame"
      ]
    },
    {
      "cell_type": "code",
      "execution_count": null,
      "id": "ff857744",
      "metadata": {
        "id": "ff857744"
      },
      "outputs": [],
      "source": [
        "# read the CSV file\n",
        "df_train = spark.read.option(\"header\", \"true\").option(\"inferSchema\", \"true\").option(\"sep\", \"\\t\").option(\"quote\", \"\\\"\").option(\"escape\", \"\\\"\").option(\"multiLine\", \"true\").option(\"timestampFormat\", \"mm/dd/yyyy HH:mm:ss\").csv(\"/content/drugsComTrain_raw.tsv\")\n",
        "df_test = spark.read.option(\"header\", \"true\").option(\"inferSchema\", \"true\").option(\"sep\", \"\\t\").option(\"quote\", \"\\\"\").option(\"escape\", \"\\\"\").option(\"multiLine\", \"true\").option(\"timestampFormat\", \"mm/dd/yyyy HH:mm:ss\").csv(\"/content/drugsComTest_raw.tsv\")\n",
        "\n",
        "# Concatenating the train and test data for cleaning\n",
        "df = df_train.union(df_test)"
      ]
    },
    {
      "cell_type": "markdown",
      "source": [
        "### Print Schema"
      ],
      "metadata": {
        "id": "onmTcn3ldksf"
      },
      "id": "onmTcn3ldksf"
    },
    {
      "cell_type": "code",
      "source": [
        "df.printSchema()"
      ],
      "metadata": {
        "colab": {
          "base_uri": "https://localhost:8080/"
        },
        "id": "km0qsY-k80pX",
        "outputId": "19f30c0c-3b27-4460-e247-5c45fe06b2d0"
      },
      "id": "km0qsY-k80pX",
      "execution_count": null,
      "outputs": [
        {
          "output_type": "stream",
          "name": "stdout",
          "text": [
            "root\n",
            " |-- _c0: integer (nullable = true)\n",
            " |-- drugName: string (nullable = true)\n",
            " |-- condition: string (nullable = true)\n",
            " |-- review: string (nullable = true)\n",
            " |-- rating: double (nullable = true)\n",
            " |-- date: string (nullable = true)\n",
            " |-- usefulCount: integer (nullable = true)\n",
            "\n"
          ]
        }
      ]
    },
    {
      "cell_type": "markdown",
      "source": [
        "### Viewing the Data"
      ],
      "metadata": {
        "id": "V8GhnGjkdpDv"
      },
      "id": "V8GhnGjkdpDv"
    },
    {
      "cell_type": "code",
      "source": [
        "df.show(5)"
      ],
      "metadata": {
        "colab": {
          "base_uri": "https://localhost:8080/"
        },
        "id": "ZB-6bd88tgMb",
        "outputId": "b98f1f5f-9b26-4b65-a0fb-ce1270ae7c38"
      },
      "id": "ZB-6bd88tgMb",
      "execution_count": null,
      "outputs": [
        {
          "output_type": "stream",
          "name": "stdout",
          "text": [
            "+------+--------------------+--------------------+--------------------+------+-----------------+-----------+\n",
            "|   _c0|            drugName|           condition|              review|rating|             date|usefulCount|\n",
            "+------+--------------------+--------------------+--------------------+------+-----------------+-----------+\n",
            "|206461|           Valsartan|Left Ventricular ...|\"It has no side e...|   9.0|     May 20, 2012|         27|\n",
            "| 95260|          Guanfacine|                ADHD|\"My son is halfwa...|   8.0|   April 27, 2010|        192|\n",
            "| 92703|              Lybrel|       Birth Control|\"I used to take a...|   5.0|December 14, 2009|         17|\n",
            "|138000|          Ortho Evra|       Birth Control|\"This is my first...|   8.0| November 3, 2015|         10|\n",
            "| 35696|Buprenorphine / n...|   Opiate Dependence|\"Suboxone has com...|   9.0|November 27, 2016|         37|\n",
            "+------+--------------------+--------------------+--------------------+------+-----------------+-----------+\n",
            "only showing top 5 rows\n",
            "\n"
          ]
        }
      ]
    },
    {
      "cell_type": "markdown",
      "id": "b0f8e9b7",
      "metadata": {
        "id": "b0f8e9b7"
      },
      "source": [
        "## Question 4 - Save the DataFrame to a local Parquet file"
      ]
    },
    {
      "cell_type": "code",
      "execution_count": null,
      "id": "a4710017",
      "metadata": {
        "id": "a4710017"
      },
      "outputs": [],
      "source": [
        "df.write.format(\"parquet\").mode(\"overwrite\").save('/content/data.parquet')"
      ]
    },
    {
      "cell_type": "markdown",
      "id": "3deee952",
      "metadata": {
        "id": "3deee952"
      },
      "source": [
        "## Question 5 - Load the DataFrame from Parquet file"
      ]
    },
    {
      "cell_type": "code",
      "execution_count": null,
      "id": "ad9cf399",
      "metadata": {
        "colab": {
          "base_uri": "https://localhost:8080/"
        },
        "id": "ad9cf399",
        "outputId": "4ac8a18b-f985-4ecb-e2c4-3880602db9cb"
      },
      "outputs": [
        {
          "output_type": "stream",
          "name": "stdout",
          "text": [
            "+------+--------------------+--------------------+--------------------+------+------------------+-----------+\n",
            "|   _c0|            drugName|           condition|              review|rating|              date|usefulCount|\n",
            "+------+--------------------+--------------------+--------------------+------+------------------+-----------+\n",
            "|206461|           Valsartan|Left Ventricular ...|\"It has no side e...|   9.0|      May 20, 2012|         27|\n",
            "| 95260|          Guanfacine|                ADHD|\"My son is halfwa...|   8.0|    April 27, 2010|        192|\n",
            "| 92703|              Lybrel|       Birth Control|\"I used to take a...|   5.0| December 14, 2009|         17|\n",
            "|138000|          Ortho Evra|       Birth Control|\"This is my first...|   8.0|  November 3, 2015|         10|\n",
            "| 35696|Buprenorphine / n...|   Opiate Dependence|\"Suboxone has com...|   9.0| November 27, 2016|         37|\n",
            "|155963|              Cialis|Benign Prostatic ...|\"2nd day on 5mg s...|   2.0| November 28, 2015|         43|\n",
            "|165907|      Levonorgestrel|Emergency Contrac...|\"He pulled out, b...|   1.0|     March 7, 2017|          5|\n",
            "|102654|        Aripiprazole|     Bipolar Disorde|\"Abilify changed ...|  10.0|    March 14, 2015|         32|\n",
            "| 74811|              Keppra|            Epilepsy|\" I Ve had  nothi...|   1.0|    August 9, 2016|         11|\n",
            "| 48928|Ethinyl estradiol...|       Birth Control|\"I had been on th...|   8.0|  December 8, 2016|          1|\n",
            "| 29607|          Topiramate| Migraine Prevention|\"I have been on t...|   9.0|   January 1, 2015|         19|\n",
            "| 75612|      L-methylfolate|          Depression|\"I have taken ant...|  10.0|     March 9, 2017|         54|\n",
            "|191290|             Pentasa|     Crohn's Disease|\"I had Crohn&#039...|   4.0|      July 6, 2013|          8|\n",
            "|221320|    Dextromethorphan|               Cough|\"Have a little bi...|   4.0| September 7, 2017|          1|\n",
            "| 98494|           Nexplanon|       Birth Control|\"Started Nexplano...|   3.0|    August 7, 2014|         10|\n",
            "| 81890|         Liraglutide|             Obesity|\"I have been taki...|   9.0|  January 19, 2017|         20|\n",
            "| 48188|        Trimethoprim|Urinary Tract Inf...|\"This drug worked...|   9.0|September 22, 2017|          0|\n",
            "|219869|       Amitriptyline|         ibromyalgia|\"I&#039;ve been t...|   9.0|    March 15, 2017|         39|\n",
            "|212077|         Lamotrigine|     Bipolar Disorde|\"I&#039;ve been o...|  10.0|  November 9, 2014|         18|\n",
            "|119705|           Nilotinib|Chronic Myelogeno...|\"I have been on T...|  10.0| September 1, 2015|         11|\n",
            "+------+--------------------+--------------------+--------------------+------+------------------+-----------+\n",
            "only showing top 20 rows\n",
            "\n"
          ]
        }
      ],
      "source": [
        "df = spark.read.format(\"parquet\").load(\"/content/data.parquet\")\n",
        "df.show()"
      ]
    },
    {
      "cell_type": "markdown",
      "id": "8b248194",
      "metadata": {
        "id": "8b248194"
      },
      "source": [
        "# Part B: Pre-processing"
      ]
    },
    {
      "cell_type": "markdown",
      "source": [
        "## Question 1 - Perform at least 2 cleaning/wrangling steps"
      ],
      "metadata": {
        "id": "xhfFuoQJfWh5"
      },
      "id": "xhfFuoQJfWh5"
    },
    {
      "cell_type": "code",
      "execution_count": null,
      "id": "abf1bf5f",
      "metadata": {
        "colab": {
          "base_uri": "https://localhost:8080/"
        },
        "id": "abf1bf5f",
        "outputId": "10686a11-3d8a-41a0-a8cf-6118e6bc481e"
      },
      "outputs": [
        {
          "output_type": "stream",
          "name": "stdout",
          "text": [
            "+--------------------+\n",
            "|              review|\n",
            "+--------------------+\n",
            "|\"It has no side e...|\n",
            "|\"My son is halfwa...|\n",
            "|\"I used to take a...|\n",
            "|\"This is my first...|\n",
            "|\"Suboxone has com...|\n",
            "|\"2nd day on 5mg s...|\n",
            "|\"He pulled out, b...|\n",
            "|\"Abilify changed ...|\n",
            "|\" I Ve had  nothi...|\n",
            "|\"I had been on th...|\n",
            "|\"I have been on t...|\n",
            "|\"I have taken ant...|\n",
            "|\"I had Crohn's wi...|\n",
            "|\"Have a little bi...|\n",
            "|\"Started Nexplano...|\n",
            "|\"I have been taki...|\n",
            "|\"This drug worked...|\n",
            "|\"I've been taking...|\n",
            "|\"I've been on eve...|\n",
            "|\"I have been on T...|\n",
            "+--------------------+\n",
            "only showing top 20 rows\n",
            "\n",
            "+-------+------------------+--------------------+-----------+--------------------+------------------+-----------------+-----------+\n",
            "|summary|          uniqueID|            drugName|  condition|              review|            rating|      usefulCount|review_date|\n",
            "+-------+------------------+--------------------+-----------+--------------------+------------------+-----------------+-----------+\n",
            "|  count|            215063|              215063|     213869|              215063|            215063|           215063|     215063|\n",
            "|   mean|116039.36481403124|                null|     9999.0|                null| 6.990007579174474|28.00100435686287|       null|\n",
            "| stddev| 67007.91336634514|                null|        0.0|                null|3.2755544975903432| 36.3460688835081|       null|\n",
            "|    min|                 0|A + D Cracked Ski...|       9999|\\n\\n please tell ...|               1.0|                0| 01-01-2009|\n",
            "|    max|            232291|            pHisoHex|zen Shoulde|❤️❤️❤️ Cialis for...|              10.0|             1291| 31-12-2016|\n",
            "+-------+------------------+--------------------+-----------+--------------------+------------------+-----------------+-----------+\n",
            "\n"
          ]
        }
      ],
      "source": [
        "# Removing '&#039;' from the review column and replacing with apostrophe(')\n",
        "df = df.withColumn(\"review\", regexp_replace(\"review\", \"&#039;\", \"'\"))\n",
        "\n",
        "# Verifying the column\n",
        "df.select(\"review\").show()\n",
        "\n",
        "# replacing quotes\n",
        "df = df.withColumn(\"review\", regexp_replace(\"review\", '\\\"', \"\"))\n",
        "\n",
        "# Cleaning condition field and replacing <span> strings with 9999\n",
        "df = df.withColumn('condition', regexp_replace('condition', '\\d+</span> users found this comment helpful.', '9999'))\n",
        "\n",
        "# Rename to UniqueID\n",
        "df = df.withColumnRenamed(\"_c0\", \"uniqueID\")\n",
        "\n",
        "# Converting date field from string type to date type\n",
        "df = df.select('uniqueID', 'drugName', 'condition', 'review', 'rating', 'usefulCount',\n",
        "               date_format(to_date('date', 'MMMM d, yyyy'), 'dd-MM-yyyy').alias('review_date'))\n",
        "\n",
        "df.describe().show()"
      ]
    },
    {
      "cell_type": "code",
      "execution_count": null,
      "id": "59dcb80c",
      "metadata": {
        "colab": {
          "base_uri": "https://localhost:8080/"
        },
        "id": "59dcb80c",
        "outputId": "c5dae6b3-5094-4830-a9aa-f69a1098da50"
      },
      "outputs": [
        {
          "output_type": "execute_result",
          "data": {
            "text/plain": [
              "0"
            ]
          },
          "metadata": {},
          "execution_count": 62
        }
      ],
      "source": [
        "# Finding null value count for the condition column\n",
        "df.filter(isnan(\"condition\")).count()\n"
      ]
    },
    {
      "cell_type": "code",
      "execution_count": null,
      "id": "ff843347",
      "metadata": {
        "colab": {
          "base_uri": "https://localhost:8080/"
        },
        "id": "ff843347",
        "outputId": "e2a5f069-7fa0-4038-d460-bea02faa1630"
      },
      "outputs": [
        {
          "output_type": "stream",
          "name": "stdout",
          "text": [
            "+-------+------------------+--------------------+-----------+--------------------+------------------+-----------------+-----------+\n",
            "|summary|          uniqueID|            drugName|  condition|              review|            rating|      usefulCount|review_date|\n",
            "+-------+------------------+--------------------+-----------+--------------------+------------------+-----------------+-----------+\n",
            "|  count|            215063|              215063|     213869|              215063|            215063|           215063|     215063|\n",
            "|   mean|116039.36481403124|                null|     9999.0|                null| 6.990007579174474|28.00100435686287|       null|\n",
            "| stddev| 67007.91336634514|                null|        0.0|                null|3.2755544975903432| 36.3460688835081|       null|\n",
            "|    min|                 0|A + D Cracked Ski...|       9999|\\n\\n please tell ...|               1.0|                0| 01-01-2009|\n",
            "|    max|            232291|            pHisoHex|zen Shoulde|❤️❤️❤️ Cialis for...|              10.0|             1291| 31-12-2016|\n",
            "+-------+------------------+--------------------+-----------+--------------------+------------------+-----------------+-----------+\n",
            "\n"
          ]
        }
      ],
      "source": [
        "# Verify\n",
        "df.describe().show()"
      ]
    },
    {
      "cell_type": "code",
      "source": [
        "# Finding null value count for condition column\n",
        "from pyspark.sql.functions import isnan\n",
        "df.filter(df[\"condition\"].isNull()).count()"
      ],
      "metadata": {
        "colab": {
          "base_uri": "https://localhost:8080/"
        },
        "id": "rr9nHPnn9Hpx",
        "outputId": "df7721e3-07c3-45b6-f235-09f89c464867"
      },
      "id": "rr9nHPnn9Hpx",
      "execution_count": null,
      "outputs": [
        {
          "output_type": "execute_result",
          "data": {
            "text/plain": [
              "1194"
            ]
          },
          "metadata": {},
          "execution_count": 64
        }
      ]
    },
    {
      "cell_type": "code",
      "source": [
        "from pyspark.sql.functions import when, lit\n",
        "df = df.withColumn(\"condition\", \\\n",
        "              when(df[\"condition\"].isNull(), lit('9999')).otherwise(df[\"condition\"]))\n",
        "df.show()"
      ],
      "metadata": {
        "colab": {
          "base_uri": "https://localhost:8080/"
        },
        "id": "BMtZq-bS9Sp8",
        "outputId": "c761d734-2da6-4a06-a7b7-60af81b16b22"
      },
      "id": "BMtZq-bS9Sp8",
      "execution_count": null,
      "outputs": [
        {
          "output_type": "stream",
          "name": "stdout",
          "text": [
            "+--------+--------------------+--------------------+--------------------+------+-----------+-----------+\n",
            "|uniqueID|            drugName|           condition|              review|rating|usefulCount|review_date|\n",
            "+--------+--------------------+--------------------+--------------------+------+-----------+-----------+\n",
            "|  206461|           Valsartan|Left Ventricular ...|It has no side ef...|   9.0|         27| 20-05-2012|\n",
            "|   95260|          Guanfacine|                ADHD|My son is halfway...|   8.0|        192| 27-04-2010|\n",
            "|   92703|              Lybrel|       Birth Control|I used to take an...|   5.0|         17| 14-12-2009|\n",
            "|  138000|          Ortho Evra|       Birth Control|This is my first ...|   8.0|         10| 03-11-2015|\n",
            "|   35696|Buprenorphine / n...|   Opiate Dependence|Suboxone has comp...|   9.0|         37| 27-11-2016|\n",
            "|  155963|              Cialis|Benign Prostatic ...|2nd day on 5mg st...|   2.0|         43| 28-11-2015|\n",
            "|  165907|      Levonorgestrel|Emergency Contrac...|He pulled out, bu...|   1.0|          5| 07-03-2017|\n",
            "|  102654|        Aripiprazole|     Bipolar Disorde|Abilify changed m...|  10.0|         32| 14-03-2015|\n",
            "|   74811|              Keppra|            Epilepsy| I Ve had  nothin...|   1.0|         11| 09-08-2016|\n",
            "|   48928|Ethinyl estradiol...|       Birth Control|I had been on the...|   8.0|          1| 08-12-2016|\n",
            "|   29607|          Topiramate| Migraine Prevention|I have been on th...|   9.0|         19| 01-01-2015|\n",
            "|   75612|      L-methylfolate|          Depression|I have taken anti...|  10.0|         54| 09-03-2017|\n",
            "|  191290|             Pentasa|     Crohn's Disease|I had Crohn's wit...|   4.0|          8| 06-07-2013|\n",
            "|  221320|    Dextromethorphan|               Cough|Have a little bit...|   4.0|          1| 07-09-2017|\n",
            "|   98494|           Nexplanon|       Birth Control|Started Nexplanon...|   3.0|         10| 07-08-2014|\n",
            "|   81890|         Liraglutide|             Obesity|I have been takin...|   9.0|         20| 19-01-2017|\n",
            "|   48188|        Trimethoprim|Urinary Tract Inf...|This drug worked ...|   9.0|          0| 22-09-2017|\n",
            "|  219869|       Amitriptyline|         ibromyalgia|I've been taking ...|   9.0|         39| 15-03-2017|\n",
            "|  212077|         Lamotrigine|     Bipolar Disorde|I've been on ever...|  10.0|         18| 09-11-2014|\n",
            "|  119705|           Nilotinib|Chronic Myelogeno...|I have been on Ta...|  10.0|         11| 01-09-2015|\n",
            "+--------+--------------------+--------------------+--------------------+------+-----------+-----------+\n",
            "only showing top 20 rows\n",
            "\n"
          ]
        }
      ]
    },
    {
      "cell_type": "code",
      "source": [
        "# Finding null valu count for review column\n",
        "from pyspark.sql.functions import isnan\n",
        "df.filter(df[\"review\"].isNull()).count()"
      ],
      "metadata": {
        "colab": {
          "base_uri": "https://localhost:8080/"
        },
        "id": "9FD7cTNo9Wax",
        "outputId": "7fabacb8-6a36-4423-99f7-63f0b7c18f6f"
      },
      "id": "9FD7cTNo9Wax",
      "execution_count": null,
      "outputs": [
        {
          "output_type": "execute_result",
          "data": {
            "text/plain": [
              "0"
            ]
          },
          "metadata": {},
          "execution_count": 66
        }
      ]
    },
    {
      "cell_type": "markdown",
      "source": [
        "## Question 2 - Remove unused columns"
      ],
      "metadata": {
        "id": "D2S9n2uxf-dC"
      },
      "id": "D2S9n2uxf-dC"
    },
    {
      "cell_type": "code",
      "source": [
        "#creating new dataframe with just review and rating column\n",
        "df= df.select(\"uniqueID\", \"drugName\", \"condition\", \"review\", \"rating\")"
      ],
      "metadata": {
        "id": "mmdQQTI5gDlI"
      },
      "id": "mmdQQTI5gDlI",
      "execution_count": null,
      "outputs": []
    },
    {
      "cell_type": "markdown",
      "id": "09fc3776",
      "metadata": {
        "id": "09fc3776"
      },
      "source": [
        "## Part C: SparkML and visualization"
      ]
    },
    {
      "cell_type": "markdown",
      "source": [
        "## Produce a visualisation on a subset of the data"
      ],
      "metadata": {
        "id": "cDKK37n8iQ8V"
      },
      "id": "cDKK37n8iQ8V"
    },
    {
      "cell_type": "code",
      "execution_count": null,
      "id": "80510f52",
      "metadata": {
        "colab": {
          "base_uri": "https://localhost:8080/",
          "height": 993
        },
        "id": "80510f52",
        "outputId": "2ad793ec-c514-4401-c90b-07dfba16b664"
      },
      "outputs": [
        {
          "output_type": "stream",
          "name": "stdout",
          "text": [
            "+--------------------+--------------------+----------+-----------------+\n",
            "|            drugName|           condition|numReviews|      avg(rating)|\n",
            "+--------------------+--------------------+----------+-----------------+\n",
            "|      Levonorgestrel|       Birth Control|      2884|7.038834951456311|\n",
            "|    Ortho Tri-Cyclen|       Birth Control|       116|             5.75|\n",
            "|           Methadone|        Chronic Pain|       108|8.898148148148149|\n",
            "|          Paroxetine|  Anxiety and Stress|        94|6.787234042553192|\n",
            "|             Desoxyn|                ADHD|        19|9.631578947368421|\n",
            "|              Zofran|Nausea/Vomiting, ...|         7|7.285714285714286|\n",
            "|      Levocetirizine|           Allergies|        97|5.278350515463917|\n",
            "|      Insulin lispro|    Diabetes, Type 2|         8|              6.0|\n",
            "|             Emetrol|     Nausea/Vomiting|        21|9.095238095238095|\n",
            "|          Diflunisal|                Pain|         2|              5.5|\n",
            "|Ethinyl estradiol...|       Endometriosis|         8|            6.875|\n",
            "|               Botox|   Cervical Dystonia|        26|7.538461538461538|\n",
            "|             Relafen|      Osteoarthritis|         5|              8.0|\n",
            "|            Cymbalta|      Osteoarthritis|        21|              7.0|\n",
            "|             PanOxyl|                Acne|         5|              9.6|\n",
            "|             Saphris|       Schizophrenia|        26|7.884615384615385|\n",
            "|Ethinyl estradiol...|   Not Listed / Othe|         7|5.571428571428571|\n",
            "|      Nortrel 1 / 35| Menstrual Disorders|         2|              8.0|\n",
            "|             Lotemax|Postoperative Ocu...|         2|              8.0|\n",
            "|         Pramipexole|Periodic Limb Mov...|         4|              7.5|\n",
            "+--------------------+--------------------+----------+-----------------+\n",
            "only showing top 20 rows\n",
            "\n"
          ]
        },
        {
          "output_type": "display_data",
          "data": {
            "text/html": [
              "<html>\n",
              "<head><meta charset=\"utf-8\" /></head>\n",
              "<body>\n",
              "    <div>            <script src=\"https://cdnjs.cloudflare.com/ajax/libs/mathjax/2.7.5/MathJax.js?config=TeX-AMS-MML_SVG\"></script><script type=\"text/javascript\">if (window.MathJax && window.MathJax.Hub && window.MathJax.Hub.Config) {window.MathJax.Hub.Config({SVG: {font: \"STIX-Web\"}});}</script>                <script type=\"text/javascript\">window.PlotlyConfig = {MathJaxConfig: 'local'};</script>\n",
              "        <script src=\"https://cdn.plot.ly/plotly-2.18.2.min.js\"></script>                <div id=\"0e1d8f3a-7945-4637-a964-a744db859065\" class=\"plotly-graph-div\" style=\"height:525px; width:100%;\"></div>            <script type=\"text/javascript\">                                    window.PLOTLYENV=window.PLOTLYENV || {};                                    if (document.getElementById(\"0e1d8f3a-7945-4637-a964-a744db859065\")) {                    Plotly.newPlot(                        \"0e1d8f3a-7945-4637-a964-a744db859065\",                        [{\"alignmentgroup\":\"True\",\"customdata\":[[5.829767865270824,\"Birth Control\"],[5.646867900032457,\"Birth Control\"],[7.038834951456311,\"Birth Control\"],[5.6496704821366635,\"Birth Control\"],[5.867584242999525,\"Birth Control\"],[5.876490224129709,\"Birth Control\"],[8.472440944881889,\"Emergency Contraception\"],[8.76969696969697,\"Weight Loss\"],[6.175133689839572,\"Birth Control\"],[2.9880418535127053,\"Vaginal Yeast Infection\"]],\"hovertemplate\":\"drugName=%{x}<br>numReviews=%{y}<br>avg(rating)=%{marker.color}<br>condition=%{customdata[1]}<extra></extra>\",\"legendgroup\":\"\",\"marker\":{\"color\":[5.829767865270824,5.646867900032457,7.038834951456311,5.6496704821366635,5.867584242999525,5.876490224129709,8.472440944881889,8.76969696969697,6.175133689839572,2.9880418535127053],\"coloraxis\":\"coloraxis\",\"pattern\":{\"shape\":\"\"}},\"name\":\"\",\"offsetgroup\":\"\",\"orientation\":\"v\",\"showlegend\":false,\"textposition\":\"auto\",\"x\":[\"Etonogestrel\",\"Ethinyl estradiol / norethindrone\",\"Levonorgestrel\",\"Nexplanon\",\"Ethinyl estradiol / levonorgestrel\",\"Ethinyl estradiol / norgestimate\",\"Levonorgestrel\",\"Phentermine\",\"Implanon\",\"Miconazole\"],\"xaxis\":\"x\",\"y\":[4394,3081,2884,2883,2107,2097,1651,1650,1496,1338],\"yaxis\":\"y\",\"type\":\"bar\"}],                        {\"template\":{\"data\":{\"histogram2dcontour\":[{\"type\":\"histogram2dcontour\",\"colorbar\":{\"outlinewidth\":0,\"ticks\":\"\"},\"colorscale\":[[0.0,\"#0d0887\"],[0.1111111111111111,\"#46039f\"],[0.2222222222222222,\"#7201a8\"],[0.3333333333333333,\"#9c179e\"],[0.4444444444444444,\"#bd3786\"],[0.5555555555555556,\"#d8576b\"],[0.6666666666666666,\"#ed7953\"],[0.7777777777777778,\"#fb9f3a\"],[0.8888888888888888,\"#fdca26\"],[1.0,\"#f0f921\"]]}],\"choropleth\":[{\"type\":\"choropleth\",\"colorbar\":{\"outlinewidth\":0,\"ticks\":\"\"}}],\"histogram2d\":[{\"type\":\"histogram2d\",\"colorbar\":{\"outlinewidth\":0,\"ticks\":\"\"},\"colorscale\":[[0.0,\"#0d0887\"],[0.1111111111111111,\"#46039f\"],[0.2222222222222222,\"#7201a8\"],[0.3333333333333333,\"#9c179e\"],[0.4444444444444444,\"#bd3786\"],[0.5555555555555556,\"#d8576b\"],[0.6666666666666666,\"#ed7953\"],[0.7777777777777778,\"#fb9f3a\"],[0.8888888888888888,\"#fdca26\"],[1.0,\"#f0f921\"]]}],\"heatmap\":[{\"type\":\"heatmap\",\"colorbar\":{\"outlinewidth\":0,\"ticks\":\"\"},\"colorscale\":[[0.0,\"#0d0887\"],[0.1111111111111111,\"#46039f\"],[0.2222222222222222,\"#7201a8\"],[0.3333333333333333,\"#9c179e\"],[0.4444444444444444,\"#bd3786\"],[0.5555555555555556,\"#d8576b\"],[0.6666666666666666,\"#ed7953\"],[0.7777777777777778,\"#fb9f3a\"],[0.8888888888888888,\"#fdca26\"],[1.0,\"#f0f921\"]]}],\"heatmapgl\":[{\"type\":\"heatmapgl\",\"colorbar\":{\"outlinewidth\":0,\"ticks\":\"\"},\"colorscale\":[[0.0,\"#0d0887\"],[0.1111111111111111,\"#46039f\"],[0.2222222222222222,\"#7201a8\"],[0.3333333333333333,\"#9c179e\"],[0.4444444444444444,\"#bd3786\"],[0.5555555555555556,\"#d8576b\"],[0.6666666666666666,\"#ed7953\"],[0.7777777777777778,\"#fb9f3a\"],[0.8888888888888888,\"#fdca26\"],[1.0,\"#f0f921\"]]}],\"contourcarpet\":[{\"type\":\"contourcarpet\",\"colorbar\":{\"outlinewidth\":0,\"ticks\":\"\"}}],\"contour\":[{\"type\":\"contour\",\"colorbar\":{\"outlinewidth\":0,\"ticks\":\"\"},\"colorscale\":[[0.0,\"#0d0887\"],[0.1111111111111111,\"#46039f\"],[0.2222222222222222,\"#7201a8\"],[0.3333333333333333,\"#9c179e\"],[0.4444444444444444,\"#bd3786\"],[0.5555555555555556,\"#d8576b\"],[0.6666666666666666,\"#ed7953\"],[0.7777777777777778,\"#fb9f3a\"],[0.8888888888888888,\"#fdca26\"],[1.0,\"#f0f921\"]]}],\"surface\":[{\"type\":\"surface\",\"colorbar\":{\"outlinewidth\":0,\"ticks\":\"\"},\"colorscale\":[[0.0,\"#0d0887\"],[0.1111111111111111,\"#46039f\"],[0.2222222222222222,\"#7201a8\"],[0.3333333333333333,\"#9c179e\"],[0.4444444444444444,\"#bd3786\"],[0.5555555555555556,\"#d8576b\"],[0.6666666666666666,\"#ed7953\"],[0.7777777777777778,\"#fb9f3a\"],[0.8888888888888888,\"#fdca26\"],[1.0,\"#f0f921\"]]}],\"mesh3d\":[{\"type\":\"mesh3d\",\"colorbar\":{\"outlinewidth\":0,\"ticks\":\"\"}}],\"scatter\":[{\"fillpattern\":{\"fillmode\":\"overlay\",\"size\":10,\"solidity\":0.2},\"type\":\"scatter\"}],\"parcoords\":[{\"type\":\"parcoords\",\"line\":{\"colorbar\":{\"outlinewidth\":0,\"ticks\":\"\"}}}],\"scatterpolargl\":[{\"type\":\"scatterpolargl\",\"marker\":{\"colorbar\":{\"outlinewidth\":0,\"ticks\":\"\"}}}],\"bar\":[{\"error_x\":{\"color\":\"#2a3f5f\"},\"error_y\":{\"color\":\"#2a3f5f\"},\"marker\":{\"line\":{\"color\":\"#E5ECF6\",\"width\":0.5},\"pattern\":{\"fillmode\":\"overlay\",\"size\":10,\"solidity\":0.2}},\"type\":\"bar\"}],\"scattergeo\":[{\"type\":\"scattergeo\",\"marker\":{\"colorbar\":{\"outlinewidth\":0,\"ticks\":\"\"}}}],\"scatterpolar\":[{\"type\":\"scatterpolar\",\"marker\":{\"colorbar\":{\"outlinewidth\":0,\"ticks\":\"\"}}}],\"histogram\":[{\"marker\":{\"pattern\":{\"fillmode\":\"overlay\",\"size\":10,\"solidity\":0.2}},\"type\":\"histogram\"}],\"scattergl\":[{\"type\":\"scattergl\",\"marker\":{\"colorbar\":{\"outlinewidth\":0,\"ticks\":\"\"}}}],\"scatter3d\":[{\"type\":\"scatter3d\",\"line\":{\"colorbar\":{\"outlinewidth\":0,\"ticks\":\"\"}},\"marker\":{\"colorbar\":{\"outlinewidth\":0,\"ticks\":\"\"}}}],\"scattermapbox\":[{\"type\":\"scattermapbox\",\"marker\":{\"colorbar\":{\"outlinewidth\":0,\"ticks\":\"\"}}}],\"scatterternary\":[{\"type\":\"scatterternary\",\"marker\":{\"colorbar\":{\"outlinewidth\":0,\"ticks\":\"\"}}}],\"scattercarpet\":[{\"type\":\"scattercarpet\",\"marker\":{\"colorbar\":{\"outlinewidth\":0,\"ticks\":\"\"}}}],\"carpet\":[{\"aaxis\":{\"endlinecolor\":\"#2a3f5f\",\"gridcolor\":\"white\",\"linecolor\":\"white\",\"minorgridcolor\":\"white\",\"startlinecolor\":\"#2a3f5f\"},\"baxis\":{\"endlinecolor\":\"#2a3f5f\",\"gridcolor\":\"white\",\"linecolor\":\"white\",\"minorgridcolor\":\"white\",\"startlinecolor\":\"#2a3f5f\"},\"type\":\"carpet\"}],\"table\":[{\"cells\":{\"fill\":{\"color\":\"#EBF0F8\"},\"line\":{\"color\":\"white\"}},\"header\":{\"fill\":{\"color\":\"#C8D4E3\"},\"line\":{\"color\":\"white\"}},\"type\":\"table\"}],\"barpolar\":[{\"marker\":{\"line\":{\"color\":\"#E5ECF6\",\"width\":0.5},\"pattern\":{\"fillmode\":\"overlay\",\"size\":10,\"solidity\":0.2}},\"type\":\"barpolar\"}],\"pie\":[{\"automargin\":true,\"type\":\"pie\"}]},\"layout\":{\"autotypenumbers\":\"strict\",\"colorway\":[\"#636efa\",\"#EF553B\",\"#00cc96\",\"#ab63fa\",\"#FFA15A\",\"#19d3f3\",\"#FF6692\",\"#B6E880\",\"#FF97FF\",\"#FECB52\"],\"font\":{\"color\":\"#2a3f5f\"},\"hovermode\":\"closest\",\"hoverlabel\":{\"align\":\"left\"},\"paper_bgcolor\":\"white\",\"plot_bgcolor\":\"#E5ECF6\",\"polar\":{\"bgcolor\":\"#E5ECF6\",\"angularaxis\":{\"gridcolor\":\"white\",\"linecolor\":\"white\",\"ticks\":\"\"},\"radialaxis\":{\"gridcolor\":\"white\",\"linecolor\":\"white\",\"ticks\":\"\"}},\"ternary\":{\"bgcolor\":\"#E5ECF6\",\"aaxis\":{\"gridcolor\":\"white\",\"linecolor\":\"white\",\"ticks\":\"\"},\"baxis\":{\"gridcolor\":\"white\",\"linecolor\":\"white\",\"ticks\":\"\"},\"caxis\":{\"gridcolor\":\"white\",\"linecolor\":\"white\",\"ticks\":\"\"}},\"coloraxis\":{\"colorbar\":{\"outlinewidth\":0,\"ticks\":\"\"}},\"colorscale\":{\"sequential\":[[0.0,\"#0d0887\"],[0.1111111111111111,\"#46039f\"],[0.2222222222222222,\"#7201a8\"],[0.3333333333333333,\"#9c179e\"],[0.4444444444444444,\"#bd3786\"],[0.5555555555555556,\"#d8576b\"],[0.6666666666666666,\"#ed7953\"],[0.7777777777777778,\"#fb9f3a\"],[0.8888888888888888,\"#fdca26\"],[1.0,\"#f0f921\"]],\"sequentialminus\":[[0.0,\"#0d0887\"],[0.1111111111111111,\"#46039f\"],[0.2222222222222222,\"#7201a8\"],[0.3333333333333333,\"#9c179e\"],[0.4444444444444444,\"#bd3786\"],[0.5555555555555556,\"#d8576b\"],[0.6666666666666666,\"#ed7953\"],[0.7777777777777778,\"#fb9f3a\"],[0.8888888888888888,\"#fdca26\"],[1.0,\"#f0f921\"]],\"diverging\":[[0,\"#8e0152\"],[0.1,\"#c51b7d\"],[0.2,\"#de77ae\"],[0.3,\"#f1b6da\"],[0.4,\"#fde0ef\"],[0.5,\"#f7f7f7\"],[0.6,\"#e6f5d0\"],[0.7,\"#b8e186\"],[0.8,\"#7fbc41\"],[0.9,\"#4d9221\"],[1,\"#276419\"]]},\"xaxis\":{\"gridcolor\":\"white\",\"linecolor\":\"white\",\"ticks\":\"\",\"title\":{\"standoff\":15},\"zerolinecolor\":\"white\",\"automargin\":true,\"zerolinewidth\":2},\"yaxis\":{\"gridcolor\":\"white\",\"linecolor\":\"white\",\"ticks\":\"\",\"title\":{\"standoff\":15},\"zerolinecolor\":\"white\",\"automargin\":true,\"zerolinewidth\":2},\"scene\":{\"xaxis\":{\"backgroundcolor\":\"#E5ECF6\",\"gridcolor\":\"white\",\"linecolor\":\"white\",\"showbackground\":true,\"ticks\":\"\",\"zerolinecolor\":\"white\",\"gridwidth\":2},\"yaxis\":{\"backgroundcolor\":\"#E5ECF6\",\"gridcolor\":\"white\",\"linecolor\":\"white\",\"showbackground\":true,\"ticks\":\"\",\"zerolinecolor\":\"white\",\"gridwidth\":2},\"zaxis\":{\"backgroundcolor\":\"#E5ECF6\",\"gridcolor\":\"white\",\"linecolor\":\"white\",\"showbackground\":true,\"ticks\":\"\",\"zerolinecolor\":\"white\",\"gridwidth\":2}},\"shapedefaults\":{\"line\":{\"color\":\"#2a3f5f\"}},\"annotationdefaults\":{\"arrowcolor\":\"#2a3f5f\",\"arrowhead\":0,\"arrowwidth\":1},\"geo\":{\"bgcolor\":\"white\",\"landcolor\":\"#E5ECF6\",\"subunitcolor\":\"white\",\"showland\":true,\"showlakes\":true,\"lakecolor\":\"white\"},\"title\":{\"x\":0.05},\"mapbox\":{\"style\":\"light\"}}},\"xaxis\":{\"anchor\":\"y\",\"domain\":[0.0,1.0],\"title\":{\"text\":\"drugName\"}},\"yaxis\":{\"anchor\":\"x\",\"domain\":[0.0,1.0],\"title\":{\"text\":\"numReviews\"}},\"coloraxis\":{\"colorbar\":{\"title\":{\"text\":\"avg(rating)\"}},\"colorscale\":[[0.0,\"#0d0887\"],[0.1111111111111111,\"#46039f\"],[0.2222222222222222,\"#7201a8\"],[0.3333333333333333,\"#9c179e\"],[0.4444444444444444,\"#bd3786\"],[0.5555555555555556,\"#d8576b\"],[0.6666666666666666,\"#ed7953\"],[0.7777777777777778,\"#fb9f3a\"],[0.8888888888888888,\"#fdca26\"],[1.0,\"#f0f921\"]]},\"legend\":{\"tracegroupgap\":0},\"margin\":{\"t\":60},\"barmode\":\"relative\"},                        {\"responsive\": true}                    ).then(function(){\n",
              "                            \n",
              "var gd = document.getElementById('0e1d8f3a-7945-4637-a964-a744db859065');\n",
              "var x = new MutationObserver(function (mutations, observer) {{\n",
              "        var display = window.getComputedStyle(gd).display;\n",
              "        if (!display || display === 'none') {{\n",
              "            console.log([gd, 'removed!']);\n",
              "            Plotly.purge(gd);\n",
              "            observer.disconnect();\n",
              "        }}\n",
              "}});\n",
              "\n",
              "// Listen for the removal of the full notebook cells\n",
              "var notebookContainer = gd.closest('#notebook-container');\n",
              "if (notebookContainer) {{\n",
              "    x.observe(notebookContainer, {childList: true});\n",
              "}}\n",
              "\n",
              "// Listen for the clearing of the current output cell\n",
              "var outputEl = gd.closest('.output');\n",
              "if (outputEl) {{\n",
              "    x.observe(outputEl, {childList: true});\n",
              "}}\n",
              "\n",
              "                        })                };                            </script>        </div>\n",
              "</body>\n",
              "</html>"
            ]
          },
          "metadata": {}
        }
      ],
      "source": [
        "df_bydrugName = df.groupBy([\"drugName\",\"condition\"]).agg({'drugName': 'count', \"rating\": \"avg\" })\n",
        "df_bydrugName = df_bydrugName.withColumnRenamed('count(drugName)', 'numReviews')\n",
        "\n",
        "df_bydrugName.show()\n",
        "top10_drugs = (\n",
        "    df_bydrugName.orderBy(desc(\"numReviews\"))\n",
        "    .limit(10)\n",
        "    .select(\"*\")\n",
        "    .toPandas()\n",
        "    .drop_duplicates(subset=['drugName', 'condition'], keep='first')\n",
        ")\n",
        "\n",
        "fig = px.bar(top10_drugs.head(20), x='drugName', y='numReviews',\n",
        "           hover_data=['avg(rating)','condition'], color='avg(rating)')\n",
        "\n",
        "fig.show()"
      ]
    },
    {
      "cell_type": "markdown",
      "source": [
        "Top 10 drugs based on the number of reviews they have received. The chart shows the drug names on the x-axis, the number of reviews on the y-axis, and the color of the bars represents the average rating of each drug. Additionally, hovering over the bars displays the condition associated with the drug and its average rating."
      ],
      "metadata": {
        "id": "IIZhcG6Zck9k"
      },
      "id": "IIZhcG6Zck9k"
    },
    {
      "cell_type": "code",
      "execution_count": null,
      "id": "8de2c200",
      "metadata": {
        "colab": {
          "base_uri": "https://localhost:8080/",
          "height": 542
        },
        "id": "8de2c200",
        "outputId": "0524d44c-7029-4e05-95ed-0e7184cd65ad"
      },
      "outputs": [
        {
          "output_type": "display_data",
          "data": {
            "text/html": [
              "<html>\n",
              "<head><meta charset=\"utf-8\" /></head>\n",
              "<body>\n",
              "    <div>            <script src=\"https://cdnjs.cloudflare.com/ajax/libs/mathjax/2.7.5/MathJax.js?config=TeX-AMS-MML_SVG\"></script><script type=\"text/javascript\">if (window.MathJax && window.MathJax.Hub && window.MathJax.Hub.Config) {window.MathJax.Hub.Config({SVG: {font: \"STIX-Web\"}});}</script>                <script type=\"text/javascript\">window.PlotlyConfig = {MathJaxConfig: 'local'};</script>\n",
              "        <script src=\"https://cdn.plot.ly/plotly-2.18.2.min.js\"></script>                <div id=\"a48a8bab-a410-4c63-b6af-9e0a211e891f\" class=\"plotly-graph-div\" style=\"height:525px; width:100%;\"></div>            <script type=\"text/javascript\">                                    window.PLOTLYENV=window.PLOTLYENV || {};                                    if (document.getElementById(\"a48a8bab-a410-4c63-b6af-9e0a211e891f\")) {                    Plotly.newPlot(                        \"a48a8bab-a410-4c63-b6af-9e0a211e891f\",                        [{\"marker\":{\"color\":[\"#784fb4\",\"#af06c1\",\"#af9b4f\",\"#7f36eb\",\"#ee3b90\",\"#4d954e\",\"#34f6cf\",\"#c2af74\",\"#3daa3c\",\"#f8455a\"]},\"x\":[\"Birth Control\",\"Depression\",\"Pain\",\"Anxiety\",\"Acne\",\"Bipolar Disorde\",\"Insomnia\",\"Weight Loss\",\"Obesity\",\"ADHD\"],\"y\":[38436,12164,8245,7812,7435,5604,4904,4857,4757,4509],\"type\":\"bar\"}],                        {\"template\":{\"data\":{\"histogram2dcontour\":[{\"type\":\"histogram2dcontour\",\"colorbar\":{\"outlinewidth\":0,\"ticks\":\"\"},\"colorscale\":[[0.0,\"#0d0887\"],[0.1111111111111111,\"#46039f\"],[0.2222222222222222,\"#7201a8\"],[0.3333333333333333,\"#9c179e\"],[0.4444444444444444,\"#bd3786\"],[0.5555555555555556,\"#d8576b\"],[0.6666666666666666,\"#ed7953\"],[0.7777777777777778,\"#fb9f3a\"],[0.8888888888888888,\"#fdca26\"],[1.0,\"#f0f921\"]]}],\"choropleth\":[{\"type\":\"choropleth\",\"colorbar\":{\"outlinewidth\":0,\"ticks\":\"\"}}],\"histogram2d\":[{\"type\":\"histogram2d\",\"colorbar\":{\"outlinewidth\":0,\"ticks\":\"\"},\"colorscale\":[[0.0,\"#0d0887\"],[0.1111111111111111,\"#46039f\"],[0.2222222222222222,\"#7201a8\"],[0.3333333333333333,\"#9c179e\"],[0.4444444444444444,\"#bd3786\"],[0.5555555555555556,\"#d8576b\"],[0.6666666666666666,\"#ed7953\"],[0.7777777777777778,\"#fb9f3a\"],[0.8888888888888888,\"#fdca26\"],[1.0,\"#f0f921\"]]}],\"heatmap\":[{\"type\":\"heatmap\",\"colorbar\":{\"outlinewidth\":0,\"ticks\":\"\"},\"colorscale\":[[0.0,\"#0d0887\"],[0.1111111111111111,\"#46039f\"],[0.2222222222222222,\"#7201a8\"],[0.3333333333333333,\"#9c179e\"],[0.4444444444444444,\"#bd3786\"],[0.5555555555555556,\"#d8576b\"],[0.6666666666666666,\"#ed7953\"],[0.7777777777777778,\"#fb9f3a\"],[0.8888888888888888,\"#fdca26\"],[1.0,\"#f0f921\"]]}],\"heatmapgl\":[{\"type\":\"heatmapgl\",\"colorbar\":{\"outlinewidth\":0,\"ticks\":\"\"},\"colorscale\":[[0.0,\"#0d0887\"],[0.1111111111111111,\"#46039f\"],[0.2222222222222222,\"#7201a8\"],[0.3333333333333333,\"#9c179e\"],[0.4444444444444444,\"#bd3786\"],[0.5555555555555556,\"#d8576b\"],[0.6666666666666666,\"#ed7953\"],[0.7777777777777778,\"#fb9f3a\"],[0.8888888888888888,\"#fdca26\"],[1.0,\"#f0f921\"]]}],\"contourcarpet\":[{\"type\":\"contourcarpet\",\"colorbar\":{\"outlinewidth\":0,\"ticks\":\"\"}}],\"contour\":[{\"type\":\"contour\",\"colorbar\":{\"outlinewidth\":0,\"ticks\":\"\"},\"colorscale\":[[0.0,\"#0d0887\"],[0.1111111111111111,\"#46039f\"],[0.2222222222222222,\"#7201a8\"],[0.3333333333333333,\"#9c179e\"],[0.4444444444444444,\"#bd3786\"],[0.5555555555555556,\"#d8576b\"],[0.6666666666666666,\"#ed7953\"],[0.7777777777777778,\"#fb9f3a\"],[0.8888888888888888,\"#fdca26\"],[1.0,\"#f0f921\"]]}],\"surface\":[{\"type\":\"surface\",\"colorbar\":{\"outlinewidth\":0,\"ticks\":\"\"},\"colorscale\":[[0.0,\"#0d0887\"],[0.1111111111111111,\"#46039f\"],[0.2222222222222222,\"#7201a8\"],[0.3333333333333333,\"#9c179e\"],[0.4444444444444444,\"#bd3786\"],[0.5555555555555556,\"#d8576b\"],[0.6666666666666666,\"#ed7953\"],[0.7777777777777778,\"#fb9f3a\"],[0.8888888888888888,\"#fdca26\"],[1.0,\"#f0f921\"]]}],\"mesh3d\":[{\"type\":\"mesh3d\",\"colorbar\":{\"outlinewidth\":0,\"ticks\":\"\"}}],\"scatter\":[{\"fillpattern\":{\"fillmode\":\"overlay\",\"size\":10,\"solidity\":0.2},\"type\":\"scatter\"}],\"parcoords\":[{\"type\":\"parcoords\",\"line\":{\"colorbar\":{\"outlinewidth\":0,\"ticks\":\"\"}}}],\"scatterpolargl\":[{\"type\":\"scatterpolargl\",\"marker\":{\"colorbar\":{\"outlinewidth\":0,\"ticks\":\"\"}}}],\"bar\":[{\"error_x\":{\"color\":\"#2a3f5f\"},\"error_y\":{\"color\":\"#2a3f5f\"},\"marker\":{\"line\":{\"color\":\"#E5ECF6\",\"width\":0.5},\"pattern\":{\"fillmode\":\"overlay\",\"size\":10,\"solidity\":0.2}},\"type\":\"bar\"}],\"scattergeo\":[{\"type\":\"scattergeo\",\"marker\":{\"colorbar\":{\"outlinewidth\":0,\"ticks\":\"\"}}}],\"scatterpolar\":[{\"type\":\"scatterpolar\",\"marker\":{\"colorbar\":{\"outlinewidth\":0,\"ticks\":\"\"}}}],\"histogram\":[{\"marker\":{\"pattern\":{\"fillmode\":\"overlay\",\"size\":10,\"solidity\":0.2}},\"type\":\"histogram\"}],\"scattergl\":[{\"type\":\"scattergl\",\"marker\":{\"colorbar\":{\"outlinewidth\":0,\"ticks\":\"\"}}}],\"scatter3d\":[{\"type\":\"scatter3d\",\"line\":{\"colorbar\":{\"outlinewidth\":0,\"ticks\":\"\"}},\"marker\":{\"colorbar\":{\"outlinewidth\":0,\"ticks\":\"\"}}}],\"scattermapbox\":[{\"type\":\"scattermapbox\",\"marker\":{\"colorbar\":{\"outlinewidth\":0,\"ticks\":\"\"}}}],\"scatterternary\":[{\"type\":\"scatterternary\",\"marker\":{\"colorbar\":{\"outlinewidth\":0,\"ticks\":\"\"}}}],\"scattercarpet\":[{\"type\":\"scattercarpet\",\"marker\":{\"colorbar\":{\"outlinewidth\":0,\"ticks\":\"\"}}}],\"carpet\":[{\"aaxis\":{\"endlinecolor\":\"#2a3f5f\",\"gridcolor\":\"white\",\"linecolor\":\"white\",\"minorgridcolor\":\"white\",\"startlinecolor\":\"#2a3f5f\"},\"baxis\":{\"endlinecolor\":\"#2a3f5f\",\"gridcolor\":\"white\",\"linecolor\":\"white\",\"minorgridcolor\":\"white\",\"startlinecolor\":\"#2a3f5f\"},\"type\":\"carpet\"}],\"table\":[{\"cells\":{\"fill\":{\"color\":\"#EBF0F8\"},\"line\":{\"color\":\"white\"}},\"header\":{\"fill\":{\"color\":\"#C8D4E3\"},\"line\":{\"color\":\"white\"}},\"type\":\"table\"}],\"barpolar\":[{\"marker\":{\"line\":{\"color\":\"#E5ECF6\",\"width\":0.5},\"pattern\":{\"fillmode\":\"overlay\",\"size\":10,\"solidity\":0.2}},\"type\":\"barpolar\"}],\"pie\":[{\"automargin\":true,\"type\":\"pie\"}]},\"layout\":{\"autotypenumbers\":\"strict\",\"colorway\":[\"#636efa\",\"#EF553B\",\"#00cc96\",\"#ab63fa\",\"#FFA15A\",\"#19d3f3\",\"#FF6692\",\"#B6E880\",\"#FF97FF\",\"#FECB52\"],\"font\":{\"color\":\"#2a3f5f\"},\"hovermode\":\"closest\",\"hoverlabel\":{\"align\":\"left\"},\"paper_bgcolor\":\"white\",\"plot_bgcolor\":\"#E5ECF6\",\"polar\":{\"bgcolor\":\"#E5ECF6\",\"angularaxis\":{\"gridcolor\":\"white\",\"linecolor\":\"white\",\"ticks\":\"\"},\"radialaxis\":{\"gridcolor\":\"white\",\"linecolor\":\"white\",\"ticks\":\"\"}},\"ternary\":{\"bgcolor\":\"#E5ECF6\",\"aaxis\":{\"gridcolor\":\"white\",\"linecolor\":\"white\",\"ticks\":\"\"},\"baxis\":{\"gridcolor\":\"white\",\"linecolor\":\"white\",\"ticks\":\"\"},\"caxis\":{\"gridcolor\":\"white\",\"linecolor\":\"white\",\"ticks\":\"\"}},\"coloraxis\":{\"colorbar\":{\"outlinewidth\":0,\"ticks\":\"\"}},\"colorscale\":{\"sequential\":[[0.0,\"#0d0887\"],[0.1111111111111111,\"#46039f\"],[0.2222222222222222,\"#7201a8\"],[0.3333333333333333,\"#9c179e\"],[0.4444444444444444,\"#bd3786\"],[0.5555555555555556,\"#d8576b\"],[0.6666666666666666,\"#ed7953\"],[0.7777777777777778,\"#fb9f3a\"],[0.8888888888888888,\"#fdca26\"],[1.0,\"#f0f921\"]],\"sequentialminus\":[[0.0,\"#0d0887\"],[0.1111111111111111,\"#46039f\"],[0.2222222222222222,\"#7201a8\"],[0.3333333333333333,\"#9c179e\"],[0.4444444444444444,\"#bd3786\"],[0.5555555555555556,\"#d8576b\"],[0.6666666666666666,\"#ed7953\"],[0.7777777777777778,\"#fb9f3a\"],[0.8888888888888888,\"#fdca26\"],[1.0,\"#f0f921\"]],\"diverging\":[[0,\"#8e0152\"],[0.1,\"#c51b7d\"],[0.2,\"#de77ae\"],[0.3,\"#f1b6da\"],[0.4,\"#fde0ef\"],[0.5,\"#f7f7f7\"],[0.6,\"#e6f5d0\"],[0.7,\"#b8e186\"],[0.8,\"#7fbc41\"],[0.9,\"#4d9221\"],[1,\"#276419\"]]},\"xaxis\":{\"gridcolor\":\"white\",\"linecolor\":\"white\",\"ticks\":\"\",\"title\":{\"standoff\":15},\"zerolinecolor\":\"white\",\"automargin\":true,\"zerolinewidth\":2},\"yaxis\":{\"gridcolor\":\"white\",\"linecolor\":\"white\",\"ticks\":\"\",\"title\":{\"standoff\":15},\"zerolinecolor\":\"white\",\"automargin\":true,\"zerolinewidth\":2},\"scene\":{\"xaxis\":{\"backgroundcolor\":\"#E5ECF6\",\"gridcolor\":\"white\",\"linecolor\":\"white\",\"showbackground\":true,\"ticks\":\"\",\"zerolinecolor\":\"white\",\"gridwidth\":2},\"yaxis\":{\"backgroundcolor\":\"#E5ECF6\",\"gridcolor\":\"white\",\"linecolor\":\"white\",\"showbackground\":true,\"ticks\":\"\",\"zerolinecolor\":\"white\",\"gridwidth\":2},\"zaxis\":{\"backgroundcolor\":\"#E5ECF6\",\"gridcolor\":\"white\",\"linecolor\":\"white\",\"showbackground\":true,\"ticks\":\"\",\"zerolinecolor\":\"white\",\"gridwidth\":2}},\"shapedefaults\":{\"line\":{\"color\":\"#2a3f5f\"}},\"annotationdefaults\":{\"arrowcolor\":\"#2a3f5f\",\"arrowhead\":0,\"arrowwidth\":1},\"geo\":{\"bgcolor\":\"white\",\"landcolor\":\"#E5ECF6\",\"subunitcolor\":\"white\",\"showland\":true,\"showlakes\":true,\"lakecolor\":\"white\"},\"title\":{\"x\":0.05},\"mapbox\":{\"style\":\"light\"}}},\"xaxis\":{\"title\":{\"text\":\"Condition\"}},\"yaxis\":{\"title\":{\"text\":\"Count\"}}},                        {\"responsive\": true}                    ).then(function(){\n",
              "                            \n",
              "var gd = document.getElementById('a48a8bab-a410-4c63-b6af-9e0a211e891f');\n",
              "var x = new MutationObserver(function (mutations, observer) {{\n",
              "        var display = window.getComputedStyle(gd).display;\n",
              "        if (!display || display === 'none') {{\n",
              "            console.log([gd, 'removed!']);\n",
              "            Plotly.purge(gd);\n",
              "            observer.disconnect();\n",
              "        }}\n",
              "}});\n",
              "\n",
              "// Listen for the removal of the full notebook cells\n",
              "var notebookContainer = gd.closest('#notebook-container');\n",
              "if (notebookContainer) {{\n",
              "    x.observe(notebookContainer, {childList: true});\n",
              "}}\n",
              "\n",
              "// Listen for the clearing of the current output cell\n",
              "var outputEl = gd.closest('.output');\n",
              "if (outputEl) {{\n",
              "    x.observe(outputEl, {childList: true});\n",
              "}}\n",
              "\n",
              "                        })                };                            </script>        </div>\n",
              "</body>\n",
              "</html>"
            ]
          },
          "metadata": {}
        }
      ],
      "source": [
        "import random\n",
        "import plotly.graph_objects as go\n",
        "\n",
        "colors = ['#%06x' % random.randint(0, 0xFFFFFF) for i in range(10)]\n",
        "# Generate 10 random colors\n",
        "\n",
        "df_byCondition = df.groupBy(\"condition\").count()\n",
        "\n",
        "top10_conditions = (\n",
        "    df_byCondition.orderBy(desc(\"count\"))\n",
        "    .limit(10)\n",
        "    .toPandas()\n",
        "    .assign(color=colors)\n",
        ")\n",
        "\n",
        "fig = go.Figure(data=[go.Bar(\n",
        "    x=top10_conditions['condition'],\n",
        "    y=top10_conditions['count'],\n",
        "    marker_color=top10_conditions['color']\n",
        ")])\n",
        "\n",
        "fig.update_layout(xaxis_title='Condition', yaxis_title='Count')\n",
        "fig.show()\n"
      ]
    },
    {
      "cell_type": "markdown",
      "source": [
        "Top 10 medical conditions based on the number of reviews they have received. The chart shows the condition names on the x-axis, the count of reviews on the y-axis"
      ],
      "metadata": {
        "id": "Z8yPb4CzdLdI"
      },
      "id": "Z8yPb4CzdLdI"
    },
    {
      "cell_type": "markdown",
      "id": "55fa9e3b",
      "metadata": {
        "id": "55fa9e3b"
      },
      "source": [
        "## Perform Sentiment Analysis on Training Data"
      ]
    },
    {
      "cell_type": "code",
      "source": [
        "print(df.columns)"
      ],
      "metadata": {
        "colab": {
          "base_uri": "https://localhost:8080/"
        },
        "id": "RFsnluk87OVj",
        "outputId": "e74dd8f1-ebd3-48b5-c937-3aa3ebab7a20"
      },
      "id": "RFsnluk87OVj",
      "execution_count": null,
      "outputs": [
        {
          "output_type": "stream",
          "name": "stdout",
          "text": [
            "['uniqueID', 'drugName', 'condition', 'review', 'rating']\n"
          ]
        }
      ]
    },
    {
      "cell_type": "code",
      "source": [
        "from vaderSentiment.vaderSentiment import SentimentIntensityAnalyzer\n",
        "import pandas as pd\n",
        "\n",
        "df = df.toPandas()\n",
        "analyzer = SentimentIntensityAnalyzer()"
      ],
      "metadata": {
        "id": "zHcjf3sE_Y6z"
      },
      "id": "zHcjf3sE_Y6z",
      "execution_count": null,
      "outputs": []
    },
    {
      "cell_type": "code",
      "execution_count": null,
      "id": "c80461e7",
      "metadata": {
        "colab": {
          "base_uri": "https://localhost:8080/",
          "height": 327
        },
        "id": "c80461e7",
        "outputId": "4914a1ba-f893-48b2-cb1f-d522a22ac48e"
      },
      "outputs": [
        {
          "output_type": "stream",
          "name": "stdout",
          "text": [
            "Looking in indexes: https://pypi.org/simple, https://us-python.pkg.dev/colab-wheels/public/simple/\n",
            "Requirement already satisfied: vaderSentiment in /usr/local/lib/python3.9/dist-packages (3.3.2)\n",
            "Requirement already satisfied: requests in /usr/local/lib/python3.9/dist-packages (from vaderSentiment) (2.27.1)\n",
            "Requirement already satisfied: certifi>=2017.4.17 in /usr/local/lib/python3.9/dist-packages (from requests->vaderSentiment) (2022.12.7)\n",
            "Requirement already satisfied: idna<4,>=2.5 in /usr/local/lib/python3.9/dist-packages (from requests->vaderSentiment) (3.4)\n",
            "Requirement already satisfied: urllib3<1.27,>=1.21.1 in /usr/local/lib/python3.9/dist-packages (from requests->vaderSentiment) (1.26.15)\n",
            "Requirement already satisfied: charset-normalizer~=2.0.0 in /usr/local/lib/python3.9/dist-packages (from requests->vaderSentiment) (2.0.12)\n"
          ]
        },
        {
          "output_type": "execute_result",
          "data": {
            "text/plain": [
              "   uniqueID                  drugName                     condition  \\\n",
              "0    206461                 Valsartan  Left Ventricular Dysfunction   \n",
              "1     95260                Guanfacine                          ADHD   \n",
              "2     92703                    Lybrel                 Birth Control   \n",
              "3    138000                Ortho Evra                 Birth Control   \n",
              "4     35696  Buprenorphine / naloxone             Opiate Dependence   \n",
              "\n",
              "                                              review  rating  vaderReviewScore  \n",
              "0  It has no side effect, I take it in combinatio...     9.0           -0.2960  \n",
              "1  My son is halfway through his fourth week of I...     8.0            0.9174  \n",
              "2  I used to take another oral contraceptive, whi...     5.0            0.6160  \n",
              "3  This is my first time using any form of birth ...     8.0            0.7184  \n",
              "4  Suboxone has completely turned my life around....     9.0            0.9403  "
            ],
            "text/html": [
              "\n",
              "  <div id=\"df-0319695a-1ed1-484c-84ce-b904b632f7f8\">\n",
              "    <div class=\"colab-df-container\">\n",
              "      <div>\n",
              "<style scoped>\n",
              "    .dataframe tbody tr th:only-of-type {\n",
              "        vertical-align: middle;\n",
              "    }\n",
              "\n",
              "    .dataframe tbody tr th {\n",
              "        vertical-align: top;\n",
              "    }\n",
              "\n",
              "    .dataframe thead th {\n",
              "        text-align: right;\n",
              "    }\n",
              "</style>\n",
              "<table border=\"1\" class=\"dataframe\">\n",
              "  <thead>\n",
              "    <tr style=\"text-align: right;\">\n",
              "      <th></th>\n",
              "      <th>uniqueID</th>\n",
              "      <th>drugName</th>\n",
              "      <th>condition</th>\n",
              "      <th>review</th>\n",
              "      <th>rating</th>\n",
              "      <th>vaderReviewScore</th>\n",
              "    </tr>\n",
              "  </thead>\n",
              "  <tbody>\n",
              "    <tr>\n",
              "      <th>0</th>\n",
              "      <td>206461</td>\n",
              "      <td>Valsartan</td>\n",
              "      <td>Left Ventricular Dysfunction</td>\n",
              "      <td>It has no side effect, I take it in combinatio...</td>\n",
              "      <td>9.0</td>\n",
              "      <td>-0.2960</td>\n",
              "    </tr>\n",
              "    <tr>\n",
              "      <th>1</th>\n",
              "      <td>95260</td>\n",
              "      <td>Guanfacine</td>\n",
              "      <td>ADHD</td>\n",
              "      <td>My son is halfway through his fourth week of I...</td>\n",
              "      <td>8.0</td>\n",
              "      <td>0.9174</td>\n",
              "    </tr>\n",
              "    <tr>\n",
              "      <th>2</th>\n",
              "      <td>92703</td>\n",
              "      <td>Lybrel</td>\n",
              "      <td>Birth Control</td>\n",
              "      <td>I used to take another oral contraceptive, whi...</td>\n",
              "      <td>5.0</td>\n",
              "      <td>0.6160</td>\n",
              "    </tr>\n",
              "    <tr>\n",
              "      <th>3</th>\n",
              "      <td>138000</td>\n",
              "      <td>Ortho Evra</td>\n",
              "      <td>Birth Control</td>\n",
              "      <td>This is my first time using any form of birth ...</td>\n",
              "      <td>8.0</td>\n",
              "      <td>0.7184</td>\n",
              "    </tr>\n",
              "    <tr>\n",
              "      <th>4</th>\n",
              "      <td>35696</td>\n",
              "      <td>Buprenorphine / naloxone</td>\n",
              "      <td>Opiate Dependence</td>\n",
              "      <td>Suboxone has completely turned my life around....</td>\n",
              "      <td>9.0</td>\n",
              "      <td>0.9403</td>\n",
              "    </tr>\n",
              "  </tbody>\n",
              "</table>\n",
              "</div>\n",
              "      <button class=\"colab-df-convert\" onclick=\"convertToInteractive('df-0319695a-1ed1-484c-84ce-b904b632f7f8')\"\n",
              "              title=\"Convert this dataframe to an interactive table.\"\n",
              "              style=\"display:none;\">\n",
              "        \n",
              "  <svg xmlns=\"http://www.w3.org/2000/svg\" height=\"24px\"viewBox=\"0 0 24 24\"\n",
              "       width=\"24px\">\n",
              "    <path d=\"M0 0h24v24H0V0z\" fill=\"none\"/>\n",
              "    <path d=\"M18.56 5.44l.94 2.06.94-2.06 2.06-.94-2.06-.94-.94-2.06-.94 2.06-2.06.94zm-11 1L8.5 8.5l.94-2.06 2.06-.94-2.06-.94L8.5 2.5l-.94 2.06-2.06.94zm10 10l.94 2.06.94-2.06 2.06-.94-2.06-.94-.94-2.06-.94 2.06-2.06.94z\"/><path d=\"M17.41 7.96l-1.37-1.37c-.4-.4-.92-.59-1.43-.59-.52 0-1.04.2-1.43.59L10.3 9.45l-7.72 7.72c-.78.78-.78 2.05 0 2.83L4 21.41c.39.39.9.59 1.41.59.51 0 1.02-.2 1.41-.59l7.78-7.78 2.81-2.81c.8-.78.8-2.07 0-2.86zM5.41 20L4 18.59l7.72-7.72 1.47 1.35L5.41 20z\"/>\n",
              "  </svg>\n",
              "      </button>\n",
              "      \n",
              "  <style>\n",
              "    .colab-df-container {\n",
              "      display:flex;\n",
              "      flex-wrap:wrap;\n",
              "      gap: 12px;\n",
              "    }\n",
              "\n",
              "    .colab-df-convert {\n",
              "      background-color: #E8F0FE;\n",
              "      border: none;\n",
              "      border-radius: 50%;\n",
              "      cursor: pointer;\n",
              "      display: none;\n",
              "      fill: #1967D2;\n",
              "      height: 32px;\n",
              "      padding: 0 0 0 0;\n",
              "      width: 32px;\n",
              "    }\n",
              "\n",
              "    .colab-df-convert:hover {\n",
              "      background-color: #E2EBFA;\n",
              "      box-shadow: 0px 1px 2px rgba(60, 64, 67, 0.3), 0px 1px 3px 1px rgba(60, 64, 67, 0.15);\n",
              "      fill: #174EA6;\n",
              "    }\n",
              "\n",
              "    [theme=dark] .colab-df-convert {\n",
              "      background-color: #3B4455;\n",
              "      fill: #D2E3FC;\n",
              "    }\n",
              "\n",
              "    [theme=dark] .colab-df-convert:hover {\n",
              "      background-color: #434B5C;\n",
              "      box-shadow: 0px 1px 3px 1px rgba(0, 0, 0, 0.15);\n",
              "      filter: drop-shadow(0px 1px 2px rgba(0, 0, 0, 0.3));\n",
              "      fill: #FFFFFF;\n",
              "    }\n",
              "  </style>\n",
              "\n",
              "      <script>\n",
              "        const buttonEl =\n",
              "          document.querySelector('#df-0319695a-1ed1-484c-84ce-b904b632f7f8 button.colab-df-convert');\n",
              "        buttonEl.style.display =\n",
              "          google.colab.kernel.accessAllowed ? 'block' : 'none';\n",
              "\n",
              "        async function convertToInteractive(key) {\n",
              "          const element = document.querySelector('#df-0319695a-1ed1-484c-84ce-b904b632f7f8');\n",
              "          const dataTable =\n",
              "            await google.colab.kernel.invokeFunction('convertToInteractive',\n",
              "                                                     [key], {});\n",
              "          if (!dataTable) return;\n",
              "\n",
              "          const docLinkHtml = 'Like what you see? Visit the ' +\n",
              "            '<a target=\"_blank\" href=https://colab.research.google.com/notebooks/data_table.ipynb>data table notebook</a>'\n",
              "            + ' to learn more about interactive tables.';\n",
              "          element.innerHTML = '';\n",
              "          dataTable['output_type'] = 'display_data';\n",
              "          await google.colab.output.renderOutput(dataTable, element);\n",
              "          const docLink = document.createElement('div');\n",
              "          docLink.innerHTML = docLinkHtml;\n",
              "          element.appendChild(docLink);\n",
              "        }\n",
              "      </script>\n",
              "    </div>\n",
              "  </div>\n",
              "  "
            ]
          },
          "metadata": {},
          "execution_count": 72
        }
      ],
      "source": [
        "!pip install vaderSentiment\n",
        "from vaderSentiment.vaderSentiment import SentimentIntensityAnalyzer\n",
        "\n",
        "analyzer = SentimentIntensityAnalyzer()\n",
        "\n",
        "def get_vader_score(review):\n",
        "    return analyzer.polarity_scores(review)['compound']\n",
        "\n",
        "# Apply the named function to create a new column\n",
        "df['vaderReviewScore'] = df['review'].apply(lambda x: get_vader_score(x))\n",
        "\n",
        "# Display the first few rows of the DataFrame\n",
        "df.head()"
      ]
    },
    {
      "cell_type": "code",
      "execution_count": null,
      "id": "a08d93e6",
      "metadata": {
        "id": "a08d93e6"
      },
      "outputs": [],
      "source": [
        "#positive and negative score is assigning based on vaderreview score\n",
        "pos_num = len(df[df['vaderReviewScore'] >=0.05])\n",
        "neg_num = len(df[df['vaderReviewScore'] <= 0.05])"
      ]
    },
    {
      "cell_type": "code",
      "execution_count": null,
      "id": "1a321f99",
      "metadata": {
        "id": "1a321f99"
      },
      "outputs": [],
      "source": [
        "#converitng into 1 or 0 label\n",
        "df['vaderSentiment']=df['vaderReviewScore'].map(lambda x:int(1) if x>=0.05 else int(0))"
      ]
    },
    {
      "cell_type": "code",
      "execution_count": null,
      "id": "79785201",
      "metadata": {
        "id": "79785201"
      },
      "outputs": [],
      "source": [
        "#based on review score divide into positive and negative sentiment\n",
        "df.loc[df['vaderReviewScore'] >= 0.05,\"vadersentimentlabel\"] = \"positive\"\n",
        "df.loc[df['vaderReviewScore'] <= 0.05,\"vadersentimentlabel\"] = \"negative\"\n",
        "\n",
        "# rating based on rating column\n",
        "pos_rating = len(df[df['rating'] >= 5])\n",
        "neg_rating = len(df[df['rating'] <= 5])"
      ]
    },
    {
      "cell_type": "code",
      "execution_count": null,
      "id": "d4a5eeb9",
      "metadata": {
        "id": "d4a5eeb9"
      },
      "outputs": [],
      "source": [
        "#if rating is more that 5 consider it as label 1 else 0\n",
        "df['ratingsentiment']=df['rating'].map(lambda x:int(1) if x>=5 else int(0))"
      ]
    },
    {
      "cell_type": "code",
      "execution_count": null,
      "id": "d2aa4a93",
      "metadata": {
        "id": "d2aa4a93"
      },
      "outputs": [],
      "source": [
        "#assigning positive and negative rating based on start rating\n",
        "df.loc[df['rating'] >= 5,\"ratingsentimentlabel\"] = \"positive\"\n",
        "df.loc[df['rating'] <= 5,\"ratingsentimentlabel\"] = \"negative\""
      ]
    },
    {
      "cell_type": "code",
      "execution_count": null,
      "id": "542d762b",
      "metadata": {
        "colab": {
          "base_uri": "https://localhost:8080/",
          "height": 337
        },
        "id": "542d762b",
        "outputId": "53c8bc8b-5298-4735-d345-d773361481d9"
      },
      "outputs": [
        {
          "output_type": "execute_result",
          "data": {
            "text/plain": [
              "   uniqueID                  drugName                     condition  \\\n",
              "0    206461                 Valsartan  Left Ventricular Dysfunction   \n",
              "1     95260                Guanfacine                          ADHD   \n",
              "2     92703                    Lybrel                 Birth Control   \n",
              "3    138000                Ortho Evra                 Birth Control   \n",
              "4     35696  Buprenorphine / naloxone             Opiate Dependence   \n",
              "\n",
              "                                              review  rating  \\\n",
              "0  It has no side effect, I take it in combinatio...     9.0   \n",
              "1  My son is halfway through his fourth week of I...     8.0   \n",
              "2  I used to take another oral contraceptive, whi...     5.0   \n",
              "3  This is my first time using any form of birth ...     8.0   \n",
              "4  Suboxone has completely turned my life around....     9.0   \n",
              "\n",
              "   vaderReviewScore  vaderSentiment vadersentimentlabel  ratingsentiment  \\\n",
              "0           -0.2960               0            negative                1   \n",
              "1            0.9174               1            positive                1   \n",
              "2            0.6160               1            positive                1   \n",
              "3            0.7184               1            positive                1   \n",
              "4            0.9403               1            positive                1   \n",
              "\n",
              "  ratingsentimentlabel  \n",
              "0             positive  \n",
              "1             positive  \n",
              "2             negative  \n",
              "3             positive  \n",
              "4             positive  "
            ],
            "text/html": [
              "\n",
              "  <div id=\"df-d575c0d9-1ef5-4dbd-8bf3-9557ebf5be2f\">\n",
              "    <div class=\"colab-df-container\">\n",
              "      <div>\n",
              "<style scoped>\n",
              "    .dataframe tbody tr th:only-of-type {\n",
              "        vertical-align: middle;\n",
              "    }\n",
              "\n",
              "    .dataframe tbody tr th {\n",
              "        vertical-align: top;\n",
              "    }\n",
              "\n",
              "    .dataframe thead th {\n",
              "        text-align: right;\n",
              "    }\n",
              "</style>\n",
              "<table border=\"1\" class=\"dataframe\">\n",
              "  <thead>\n",
              "    <tr style=\"text-align: right;\">\n",
              "      <th></th>\n",
              "      <th>uniqueID</th>\n",
              "      <th>drugName</th>\n",
              "      <th>condition</th>\n",
              "      <th>review</th>\n",
              "      <th>rating</th>\n",
              "      <th>vaderReviewScore</th>\n",
              "      <th>vaderSentiment</th>\n",
              "      <th>vadersentimentlabel</th>\n",
              "      <th>ratingsentiment</th>\n",
              "      <th>ratingsentimentlabel</th>\n",
              "    </tr>\n",
              "  </thead>\n",
              "  <tbody>\n",
              "    <tr>\n",
              "      <th>0</th>\n",
              "      <td>206461</td>\n",
              "      <td>Valsartan</td>\n",
              "      <td>Left Ventricular Dysfunction</td>\n",
              "      <td>It has no side effect, I take it in combinatio...</td>\n",
              "      <td>9.0</td>\n",
              "      <td>-0.2960</td>\n",
              "      <td>0</td>\n",
              "      <td>negative</td>\n",
              "      <td>1</td>\n",
              "      <td>positive</td>\n",
              "    </tr>\n",
              "    <tr>\n",
              "      <th>1</th>\n",
              "      <td>95260</td>\n",
              "      <td>Guanfacine</td>\n",
              "      <td>ADHD</td>\n",
              "      <td>My son is halfway through his fourth week of I...</td>\n",
              "      <td>8.0</td>\n",
              "      <td>0.9174</td>\n",
              "      <td>1</td>\n",
              "      <td>positive</td>\n",
              "      <td>1</td>\n",
              "      <td>positive</td>\n",
              "    </tr>\n",
              "    <tr>\n",
              "      <th>2</th>\n",
              "      <td>92703</td>\n",
              "      <td>Lybrel</td>\n",
              "      <td>Birth Control</td>\n",
              "      <td>I used to take another oral contraceptive, whi...</td>\n",
              "      <td>5.0</td>\n",
              "      <td>0.6160</td>\n",
              "      <td>1</td>\n",
              "      <td>positive</td>\n",
              "      <td>1</td>\n",
              "      <td>negative</td>\n",
              "    </tr>\n",
              "    <tr>\n",
              "      <th>3</th>\n",
              "      <td>138000</td>\n",
              "      <td>Ortho Evra</td>\n",
              "      <td>Birth Control</td>\n",
              "      <td>This is my first time using any form of birth ...</td>\n",
              "      <td>8.0</td>\n",
              "      <td>0.7184</td>\n",
              "      <td>1</td>\n",
              "      <td>positive</td>\n",
              "      <td>1</td>\n",
              "      <td>positive</td>\n",
              "    </tr>\n",
              "    <tr>\n",
              "      <th>4</th>\n",
              "      <td>35696</td>\n",
              "      <td>Buprenorphine / naloxone</td>\n",
              "      <td>Opiate Dependence</td>\n",
              "      <td>Suboxone has completely turned my life around....</td>\n",
              "      <td>9.0</td>\n",
              "      <td>0.9403</td>\n",
              "      <td>1</td>\n",
              "      <td>positive</td>\n",
              "      <td>1</td>\n",
              "      <td>positive</td>\n",
              "    </tr>\n",
              "  </tbody>\n",
              "</table>\n",
              "</div>\n",
              "      <button class=\"colab-df-convert\" onclick=\"convertToInteractive('df-d575c0d9-1ef5-4dbd-8bf3-9557ebf5be2f')\"\n",
              "              title=\"Convert this dataframe to an interactive table.\"\n",
              "              style=\"display:none;\">\n",
              "        \n",
              "  <svg xmlns=\"http://www.w3.org/2000/svg\" height=\"24px\"viewBox=\"0 0 24 24\"\n",
              "       width=\"24px\">\n",
              "    <path d=\"M0 0h24v24H0V0z\" fill=\"none\"/>\n",
              "    <path d=\"M18.56 5.44l.94 2.06.94-2.06 2.06-.94-2.06-.94-.94-2.06-.94 2.06-2.06.94zm-11 1L8.5 8.5l.94-2.06 2.06-.94-2.06-.94L8.5 2.5l-.94 2.06-2.06.94zm10 10l.94 2.06.94-2.06 2.06-.94-2.06-.94-.94-2.06-.94 2.06-2.06.94z\"/><path d=\"M17.41 7.96l-1.37-1.37c-.4-.4-.92-.59-1.43-.59-.52 0-1.04.2-1.43.59L10.3 9.45l-7.72 7.72c-.78.78-.78 2.05 0 2.83L4 21.41c.39.39.9.59 1.41.59.51 0 1.02-.2 1.41-.59l7.78-7.78 2.81-2.81c.8-.78.8-2.07 0-2.86zM5.41 20L4 18.59l7.72-7.72 1.47 1.35L5.41 20z\"/>\n",
              "  </svg>\n",
              "      </button>\n",
              "      \n",
              "  <style>\n",
              "    .colab-df-container {\n",
              "      display:flex;\n",
              "      flex-wrap:wrap;\n",
              "      gap: 12px;\n",
              "    }\n",
              "\n",
              "    .colab-df-convert {\n",
              "      background-color: #E8F0FE;\n",
              "      border: none;\n",
              "      border-radius: 50%;\n",
              "      cursor: pointer;\n",
              "      display: none;\n",
              "      fill: #1967D2;\n",
              "      height: 32px;\n",
              "      padding: 0 0 0 0;\n",
              "      width: 32px;\n",
              "    }\n",
              "\n",
              "    .colab-df-convert:hover {\n",
              "      background-color: #E2EBFA;\n",
              "      box-shadow: 0px 1px 2px rgba(60, 64, 67, 0.3), 0px 1px 3px 1px rgba(60, 64, 67, 0.15);\n",
              "      fill: #174EA6;\n",
              "    }\n",
              "\n",
              "    [theme=dark] .colab-df-convert {\n",
              "      background-color: #3B4455;\n",
              "      fill: #D2E3FC;\n",
              "    }\n",
              "\n",
              "    [theme=dark] .colab-df-convert:hover {\n",
              "      background-color: #434B5C;\n",
              "      box-shadow: 0px 1px 3px 1px rgba(0, 0, 0, 0.15);\n",
              "      filter: drop-shadow(0px 1px 2px rgba(0, 0, 0, 0.3));\n",
              "      fill: #FFFFFF;\n",
              "    }\n",
              "  </style>\n",
              "\n",
              "      <script>\n",
              "        const buttonEl =\n",
              "          document.querySelector('#df-d575c0d9-1ef5-4dbd-8bf3-9557ebf5be2f button.colab-df-convert');\n",
              "        buttonEl.style.display =\n",
              "          google.colab.kernel.accessAllowed ? 'block' : 'none';\n",
              "\n",
              "        async function convertToInteractive(key) {\n",
              "          const element = document.querySelector('#df-d575c0d9-1ef5-4dbd-8bf3-9557ebf5be2f');\n",
              "          const dataTable =\n",
              "            await google.colab.kernel.invokeFunction('convertToInteractive',\n",
              "                                                     [key], {});\n",
              "          if (!dataTable) return;\n",
              "\n",
              "          const docLinkHtml = 'Like what you see? Visit the ' +\n",
              "            '<a target=\"_blank\" href=https://colab.research.google.com/notebooks/data_table.ipynb>data table notebook</a>'\n",
              "            + ' to learn more about interactive tables.';\n",
              "          element.innerHTML = '';\n",
              "          dataTable['output_type'] = 'display_data';\n",
              "          await google.colab.output.renderOutput(dataTable, element);\n",
              "          const docLink = document.createElement('div');\n",
              "          docLink.innerHTML = docLinkHtml;\n",
              "          element.appendChild(docLink);\n",
              "        }\n",
              "      </script>\n",
              "    </div>\n",
              "  </div>\n",
              "  "
            ]
          },
          "metadata": {},
          "execution_count": 78
        }
      ],
      "source": [
        "#dispalying the dataframe with review ,rating and with both label\n",
        "df.head()"
      ]
    },
    {
      "cell_type": "markdown",
      "id": "6f46f171",
      "metadata": {
        "id": "6f46f171"
      },
      "source": [
        "## Using NLTK, creating pipeline"
      ]
    },
    {
      "cell_type": "code",
      "execution_count": null,
      "id": "f1e52a6b",
      "metadata": {
        "id": "f1e52a6b"
      },
      "outputs": [],
      "source": [
        "from sklearn.feature_extraction.text import TfidfVectorizer\n",
        "#calculating inverse TF based on review column\n",
        "tfidf = TfidfVectorizer(stop_words='english',ngram_range=(1,4))\n",
        "features = tfidf.fit_transform(df.review)\n",
        "labels = df.vaderSentiment"
      ]
    },
    {
      "cell_type": "markdown",
      "source": [
        "## Apply a ML algorithm of your choice to your data"
      ],
      "metadata": {
        "id": "Evl0Q1TDisQi"
      },
      "id": "Evl0Q1TDisQi"
    },
    {
      "cell_type": "markdown",
      "id": "fe27c669",
      "metadata": {
        "id": "fe27c669"
      },
      "source": [
        "### Creating models using different classifiers"
      ]
    },
    {
      "cell_type": "code",
      "execution_count": null,
      "id": "ef1adad2",
      "metadata": {
        "id": "ef1adad2"
      },
      "outputs": [],
      "source": [
        "#importing machine learning libraries\n",
        "from sklearn.model_selection import train_test_split\n",
        "from sklearn.naive_bayes import MultinomialNB\n",
        "#spliting feature and label variable in to train and test catagory\n",
        "x_train,x_test,y_train,y_test = train_test_split(df['review'],df['ratingsentimentlabel'],random_state=0)"
      ]
    },
    {
      "cell_type": "code",
      "execution_count": null,
      "id": "7c34fdc2",
      "metadata": {
        "id": "7c34fdc2"
      },
      "outputs": [],
      "source": [
        "#importing different type of classifier\n",
        "from sklearn.linear_model import LogisticRegression\n",
        "from sklearn.svm import LinearSVC\n",
        "from sklearn.neighbors import KNeighborsClassifier\n",
        "from sklearn.model_selection import cross_val_score\n",
        "from sklearn.preprocessing import StandardScaler"
      ]
    },
    {
      "cell_type": "code",
      "execution_count": null,
      "id": "6ddb935a",
      "metadata": {
        "id": "6ddb935a"
      },
      "outputs": [],
      "source": [
        "#creating model based on linearSVC, LogisticRegresssion Regression \n",
        "models = [LinearSVC(), LogisticRegression(random_state=0,solver='lbfgs',max_iter=2000,multi_class='auto')]\n",
        "CV = 4\n",
        "cv_df = pd.DataFrame(index=range(CV * len(models)))\n",
        "entries = []\n",
        "for model in models:\n",
        "  model_name = model.__class__.__name__\n",
        "  accuracies = cross_val_score(model,features,labels,scoring='accuracy',cv=CV)\n",
        "  for fold_idx,accuracy in enumerate(accuracies):\n",
        "    entries.append((model_name,fold_idx,accuracy))\n",
        "cv_df = pd.DataFrame(entries,columns=['model_name','fold_idx','accuracy'])"
      ]
    },
    {
      "cell_type": "code",
      "execution_count": null,
      "id": "361c20d1",
      "metadata": {
        "colab": {
          "base_uri": "https://localhost:8080/",
          "height": 300
        },
        "id": "361c20d1",
        "outputId": "284b12a6-6c9d-46dd-c7f3-073c3d3bbdfa"
      },
      "outputs": [
        {
          "output_type": "execute_result",
          "data": {
            "text/plain": [
              "           model_name  fold_idx  accuracy\n",
              "0           LinearSVC         0  0.927966\n",
              "1           LinearSVC         1  0.930235\n",
              "2           LinearSVC         2  0.929658\n",
              "3           LinearSVC         3  0.928001\n",
              "4  LogisticRegression         0  0.881114\n",
              "5  LogisticRegression         1  0.883160\n",
              "6  LogisticRegression         2  0.880315\n",
              "7  LogisticRegression         3  0.879959"
            ],
            "text/html": [
              "\n",
              "  <div id=\"df-a6073f58-65a1-4f42-b7fe-cb1072776865\">\n",
              "    <div class=\"colab-df-container\">\n",
              "      <div>\n",
              "<style scoped>\n",
              "    .dataframe tbody tr th:only-of-type {\n",
              "        vertical-align: middle;\n",
              "    }\n",
              "\n",
              "    .dataframe tbody tr th {\n",
              "        vertical-align: top;\n",
              "    }\n",
              "\n",
              "    .dataframe thead th {\n",
              "        text-align: right;\n",
              "    }\n",
              "</style>\n",
              "<table border=\"1\" class=\"dataframe\">\n",
              "  <thead>\n",
              "    <tr style=\"text-align: right;\">\n",
              "      <th></th>\n",
              "      <th>model_name</th>\n",
              "      <th>fold_idx</th>\n",
              "      <th>accuracy</th>\n",
              "    </tr>\n",
              "  </thead>\n",
              "  <tbody>\n",
              "    <tr>\n",
              "      <th>0</th>\n",
              "      <td>LinearSVC</td>\n",
              "      <td>0</td>\n",
              "      <td>0.927966</td>\n",
              "    </tr>\n",
              "    <tr>\n",
              "      <th>1</th>\n",
              "      <td>LinearSVC</td>\n",
              "      <td>1</td>\n",
              "      <td>0.930235</td>\n",
              "    </tr>\n",
              "    <tr>\n",
              "      <th>2</th>\n",
              "      <td>LinearSVC</td>\n",
              "      <td>2</td>\n",
              "      <td>0.929658</td>\n",
              "    </tr>\n",
              "    <tr>\n",
              "      <th>3</th>\n",
              "      <td>LinearSVC</td>\n",
              "      <td>3</td>\n",
              "      <td>0.928001</td>\n",
              "    </tr>\n",
              "    <tr>\n",
              "      <th>4</th>\n",
              "      <td>LogisticRegression</td>\n",
              "      <td>0</td>\n",
              "      <td>0.881114</td>\n",
              "    </tr>\n",
              "    <tr>\n",
              "      <th>5</th>\n",
              "      <td>LogisticRegression</td>\n",
              "      <td>1</td>\n",
              "      <td>0.883160</td>\n",
              "    </tr>\n",
              "    <tr>\n",
              "      <th>6</th>\n",
              "      <td>LogisticRegression</td>\n",
              "      <td>2</td>\n",
              "      <td>0.880315</td>\n",
              "    </tr>\n",
              "    <tr>\n",
              "      <th>7</th>\n",
              "      <td>LogisticRegression</td>\n",
              "      <td>3</td>\n",
              "      <td>0.879959</td>\n",
              "    </tr>\n",
              "  </tbody>\n",
              "</table>\n",
              "</div>\n",
              "      <button class=\"colab-df-convert\" onclick=\"convertToInteractive('df-a6073f58-65a1-4f42-b7fe-cb1072776865')\"\n",
              "              title=\"Convert this dataframe to an interactive table.\"\n",
              "              style=\"display:none;\">\n",
              "        \n",
              "  <svg xmlns=\"http://www.w3.org/2000/svg\" height=\"24px\"viewBox=\"0 0 24 24\"\n",
              "       width=\"24px\">\n",
              "    <path d=\"M0 0h24v24H0V0z\" fill=\"none\"/>\n",
              "    <path d=\"M18.56 5.44l.94 2.06.94-2.06 2.06-.94-2.06-.94-.94-2.06-.94 2.06-2.06.94zm-11 1L8.5 8.5l.94-2.06 2.06-.94-2.06-.94L8.5 2.5l-.94 2.06-2.06.94zm10 10l.94 2.06.94-2.06 2.06-.94-2.06-.94-.94-2.06-.94 2.06-2.06.94z\"/><path d=\"M17.41 7.96l-1.37-1.37c-.4-.4-.92-.59-1.43-.59-.52 0-1.04.2-1.43.59L10.3 9.45l-7.72 7.72c-.78.78-.78 2.05 0 2.83L4 21.41c.39.39.9.59 1.41.59.51 0 1.02-.2 1.41-.59l7.78-7.78 2.81-2.81c.8-.78.8-2.07 0-2.86zM5.41 20L4 18.59l7.72-7.72 1.47 1.35L5.41 20z\"/>\n",
              "  </svg>\n",
              "      </button>\n",
              "      \n",
              "  <style>\n",
              "    .colab-df-container {\n",
              "      display:flex;\n",
              "      flex-wrap:wrap;\n",
              "      gap: 12px;\n",
              "    }\n",
              "\n",
              "    .colab-df-convert {\n",
              "      background-color: #E8F0FE;\n",
              "      border: none;\n",
              "      border-radius: 50%;\n",
              "      cursor: pointer;\n",
              "      display: none;\n",
              "      fill: #1967D2;\n",
              "      height: 32px;\n",
              "      padding: 0 0 0 0;\n",
              "      width: 32px;\n",
              "    }\n",
              "\n",
              "    .colab-df-convert:hover {\n",
              "      background-color: #E2EBFA;\n",
              "      box-shadow: 0px 1px 2px rgba(60, 64, 67, 0.3), 0px 1px 3px 1px rgba(60, 64, 67, 0.15);\n",
              "      fill: #174EA6;\n",
              "    }\n",
              "\n",
              "    [theme=dark] .colab-df-convert {\n",
              "      background-color: #3B4455;\n",
              "      fill: #D2E3FC;\n",
              "    }\n",
              "\n",
              "    [theme=dark] .colab-df-convert:hover {\n",
              "      background-color: #434B5C;\n",
              "      box-shadow: 0px 1px 3px 1px rgba(0, 0, 0, 0.15);\n",
              "      filter: drop-shadow(0px 1px 2px rgba(0, 0, 0, 0.3));\n",
              "      fill: #FFFFFF;\n",
              "    }\n",
              "  </style>\n",
              "\n",
              "      <script>\n",
              "        const buttonEl =\n",
              "          document.querySelector('#df-a6073f58-65a1-4f42-b7fe-cb1072776865 button.colab-df-convert');\n",
              "        buttonEl.style.display =\n",
              "          google.colab.kernel.accessAllowed ? 'block' : 'none';\n",
              "\n",
              "        async function convertToInteractive(key) {\n",
              "          const element = document.querySelector('#df-a6073f58-65a1-4f42-b7fe-cb1072776865');\n",
              "          const dataTable =\n",
              "            await google.colab.kernel.invokeFunction('convertToInteractive',\n",
              "                                                     [key], {});\n",
              "          if (!dataTable) return;\n",
              "\n",
              "          const docLinkHtml = 'Like what you see? Visit the ' +\n",
              "            '<a target=\"_blank\" href=https://colab.research.google.com/notebooks/data_table.ipynb>data table notebook</a>'\n",
              "            + ' to learn more about interactive tables.';\n",
              "          element.innerHTML = '';\n",
              "          dataTable['output_type'] = 'display_data';\n",
              "          await google.colab.output.renderOutput(dataTable, element);\n",
              "          const docLink = document.createElement('div');\n",
              "          docLink.innerHTML = docLinkHtml;\n",
              "          element.appendChild(docLink);\n",
              "        }\n",
              "      </script>\n",
              "    </div>\n",
              "  </div>\n",
              "  "
            ]
          },
          "metadata": {},
          "execution_count": 40
        }
      ],
      "source": [
        "#displaying accuracy for each model for 5 fold iteration \n",
        "cv_df"
      ]
    },
    {
      "cell_type": "code",
      "execution_count": null,
      "id": "54c91f41",
      "metadata": {
        "colab": {
          "base_uri": "https://localhost:8080/"
        },
        "id": "54c91f41",
        "outputId": "0562cf2a-27f9-4f3f-9759-fdece8516945"
      },
      "outputs": [
        {
          "output_type": "execute_result",
          "data": {
            "text/plain": [
              "model_name\n",
              "LinearSVC             0.928965\n",
              "LogisticRegression    0.881137\n",
              "Name: accuracy, dtype: float64"
            ]
          },
          "metadata": {},
          "execution_count": 41
        }
      ],
      "source": [
        "#showing based model accuracy\n",
        "cv_df.groupby('model_name').accuracy.mean()"
      ]
    },
    {
      "cell_type": "markdown",
      "source": [
        "LinearSVC has the highest accuracy of 92.89 percentage."
      ],
      "metadata": {
        "id": "IXcslPukjQVd"
      },
      "id": "IXcslPukjQVd"
    },
    {
      "cell_type": "markdown",
      "id": "9582a9a8",
      "metadata": {
        "id": "9582a9a8"
      },
      "source": [
        "### Creating the final model for prediction using the best model (SVM) and training the model"
      ]
    },
    {
      "cell_type": "code",
      "execution_count": null,
      "id": "80cb5c22",
      "metadata": {
        "id": "80cb5c22"
      },
      "outputs": [],
      "source": [
        "#importing normalizer for predicting input\n",
        "from sklearn.preprocessing import Normalizer\n",
        "#as SVC is proven for best model based on accuracy will run prediction based on that\n",
        "model = LinearSVC('l2')\n",
        "\n",
        "# Create test and train data\n",
        "x_train,x_test,y_train,y_test = train_test_split(features,labels,test_size=0.25,random_state=0)\n",
        "normalize = Normalizer()\n",
        "x_train = normalize.fit_transform(x_train)\n",
        "x_test = normalize.transform(x_test)"
      ]
    },
    {
      "cell_type": "markdown",
      "id": "5623a6b6",
      "metadata": {
        "id": "5623a6b6"
      },
      "source": [
        "### Fit the model and predict"
      ]
    },
    {
      "cell_type": "code",
      "execution_count": null,
      "id": "63d03982",
      "metadata": {
        "colab": {
          "base_uri": "https://localhost:8080/"
        },
        "id": "63d03982",
        "outputId": "9e778782-f5b4-4213-aa3d-edef91ed03c8"
      },
      "outputs": [
        {
          "output_type": "stream",
          "name": "stdout",
          "text": [
            "0.9308484916117993\n"
          ]
        }
      ],
      "source": [
        "model.fit(x_train,y_train)\n",
        "y_pred = model.predict(x_test)\n",
        "from sklearn.metrics import accuracy_score\n",
        "print(accuracy_score(y_test,y_pred))"
      ]
    },
    {
      "cell_type": "code",
      "execution_count": null,
      "id": "a0ef967c",
      "metadata": {
        "colab": {
          "base_uri": "https://localhost:8080/",
          "height": 466
        },
        "id": "a0ef967c",
        "outputId": "da9dfd4b-d59f-4df7-a2cf-ba70a8e476a4"
      },
      "outputs": [
        {
          "output_type": "display_data",
          "data": {
            "text/plain": [
              "<Figure size 1200x1200 with 0 Axes>"
            ]
          },
          "metadata": {}
        },
        {
          "output_type": "display_data",
          "data": {
            "text/plain": [
              "<Figure size 640x480 with 2 Axes>"
            ],
            "image/png": "[encoded data removed]"
          },
          "metadata": {}
        }
      ],
      "source": [
        "#creating confusion matrix for test and predicted output\n",
        "from sklearn.metrics import confusion_matrix\n",
        "conf_mat = confusion_matrix(y_test,y_pred)\n",
        "#imporing MLxtend library for ploting confusion matrix\n",
        "from mlxtend.plotting import plot_confusion_matrix\n",
        "\n",
        "#displaying confusion matrix\n",
        "fig = plt.figure(figsize=(12,12))\n",
        "fig,ax = plot_confusion_matrix(conf_mat=conf_mat,colorbar=True)\n",
        "# fig.savefig(\"confusion.png\")"
      ]
    },
    {
      "cell_type": "code",
      "execution_count": null,
      "id": "7247e44b",
      "metadata": {
        "colab": {
          "base_uri": "https://localhost:8080/"
        },
        "id": "7247e44b",
        "outputId": "f6ddc2ac-f812-4b3e-e3ff-2baa7387ba2c"
      },
      "outputs": [
        {
          "output_type": "stream",
          "name": "stdout",
          "text": [
            "              precision    recall  f1-score   support\n",
            "\n",
            "    positive       0.93      0.94      0.93     27867\n",
            "    negative       0.94      0.92      0.93     25899\n",
            "\n",
            "    accuracy                           0.93     53766\n",
            "   macro avg       0.93      0.93      0.93     53766\n",
            "weighted avg       0.93      0.93      0.93     53766\n",
            "\n"
          ]
        }
      ],
      "source": [
        "#summary table of SVC model\n",
        "from sklearn.metrics import classification_report\n",
        "print(classification_report(y_test,y_pred,target_names=df['ratingsentimentlabel'].unique()))"
      ]
    },
    {
      "cell_type": "markdown",
      "id": "585597c2",
      "metadata": {
        "id": "585597c2"
      },
      "source": [
        "The precision for the \"positive\" class is 0.93, which means that out of all the examples that were classified as \"positive\", 93% were actually positive. The recall for the \"positive\" class is 0.94, which means that out of all the actual positive examples, 94% were correctly identified as positive. The F1-score for the \"positive\" class is 0.93, which is the harmonic mean of precision and recall.\n",
        "\n",
        "Similarly, for the \"negative\" class, the precision is 0.94, the recall is 0.92, and the F1-score is 0.93. These metrics indicate that the classifier is performing well for both classes, with similar scores for both.\n",
        "\n",
        "The overall accuracy of the classifier is 0.93, which means that it correctly classified 93% of the examples in the dataset. "
      ]
    }
  ],
  "metadata": {
    "kernelspec": {
      "display_name": "Python 3 (ipykernel)",
      "language": "python",
      "name": "python3"
    },
    "language_info": {
      "codemirror_mode": {
        "name": "ipython",
        "version": 3
      },
      "file_extension": ".py",
      "mimetype": "text/x-python",
      "name": "python",
      "nbconvert_exporter": "python",
      "pygments_lexer": "ipython3",
      "version": "3.11.3"
    },
    "colab": {
      "provenance": []
    }
  },
  "nbformat": 4,
  "nbformat_minor": 5
}